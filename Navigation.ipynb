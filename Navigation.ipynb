{
 "cells": [
  {
   "cell_type": "markdown",
   "metadata": {},
   "source": [
    "Hello 🤗"
   ],
   "id": "f75dd518-473d-434d-b5a0-022ffe28acfb"
  },
  {
   "cell_type": "markdown",
   "metadata": {},
   "source": [
    "This notebook is a guide to navigate all the other notebooks. In this series of notebooks, we aim to reproduce the results of Skin Cancer Classification using Inception Network and Transfer Learning. The paper explores the application of advanced neural network architectures, specifically Inception Networks, in conjunction with transfer learning techniques for skin cancer classification. We will investigate and mitigate potential sources of data leakage within the dataset."
   ],
   "id": "b129f7f0-2527-4ff9-a470-0eda6df11c2e"
  },
  {
   "cell_type": "markdown",
   "metadata": {},
   "source": [
    "Now use this order to go throught the notebooks:\n",
    "\n",
    "1.  [Toy example](https://github.com/kyrillosishak/re-SkinCancer/blob/main/Notebooks/00_toyexample.ipynb)\n",
    "2.  [Reproducing Skin Cancer paper](https://github.com/kyrillosishak/re-SkinCancer/blob/main/Notebooks/01_reproducingSkinCancer.ipynb)\n",
    "3.  [Mitigating Data Leakage in Skin Cancer](https://github.com/kyrillosishak/re-SkinCancer/blob/main/Notebooks/02_correctingDataLeakage.ipynb)"
   ],
   "id": "32e13333-b8f5-488f-8766-4263dcba4be4"
  }
 ],
 "nbformat": 4,
 "nbformat_minor": 5,
 "metadata": {}
}
