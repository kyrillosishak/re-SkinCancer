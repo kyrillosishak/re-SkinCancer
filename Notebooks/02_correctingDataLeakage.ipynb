{
  "cells": [
    {
      "cell_type": "markdown",
      "metadata": {
        "id": "view-in-github",
        "colab_type": "text"
      },
      "source": [
        "<a href=\"https://colab.research.google.com/github/kyrillosishak/re-SkinCancer/blob/main/Notebooks/02_correctingDataLeakage.ipynb\" target=\"_parent\"><img src=\"https://colab.research.google.com/assets/colab-badge.svg\" alt=\"Open In Colab\"/></a>"
      ]
    },
    {
      "cell_type": "markdown",
      "metadata": {
        "id": "1fcfa7f7-81ea-4dd1-9030-741d45aa45c8"
      },
      "source": [
        "# Mitigating Data Leakage in Skin Cancer Classification with Transfer Learning\n",
        "\n",
        "`Skin Cancer Classification with Transfer Learning` paper that we are discussing uses HAM_10000 dataset.\n",
        "\n",
        "The HAM_10000 dataset is a widely used dataset for dermatological image classification, containing thousands of images of pigmented lesions. While it has been a valuable resource for training machine learning models, recent studies have highlighted significant issues with data leakage due to duplicate images within the dataset. This data leakage can lead to overly optimistic performance estimates and undermine the validity of research findings \\[2\\].\n",
        "\n",
        "In this notebook, we tackle the data leakage problem in the HAM_10000 dataset by addressing the duplicates within the dataset. Notably, insights from the survey paper “Leakage and the Reproducibility Crisis in ML-based Science” highlighted the issue of data leakage and its detrimental effects on reproducibility in machine learning. This survey also references the study “Investigating the Quality of DermaMNIST and Fitzpatrick17k Dermatological Image Datasets,” which provided evidence of duplicate images in dermatological datasets, including `HAM_10000`\\[1\\].\n",
        "\n",
        "Our approach involves two main notebooks: the first reproduces the original paper, and the second focuses on identifying and addressing data leakage in the HAM_10000 dataset. By showing image similarity and identifying duplicates, we will clean the validation dataset and subsequently evaluate the impact on model accuracy and confusion metrics.\n",
        "\n",
        "------------------------------------------------------------------------\n",
        "\n",
        "**🔍 In this notebook, we will:**\n",
        "\n",
        "1.  Identify Duplicates in `HAM_10000`4\n",
        "2.  Clean the Validation Dataset.\n",
        "3.  Evaluate Model Performance on new clean validation data.\n",
        "4.  Discuss Implications."
      ],
      "id": "1fcfa7f7-81ea-4dd1-9030-741d45aa45c8"
    },
    {
      "cell_type": "markdown",
      "metadata": {
        "id": "f8639793-4d5f-48dd-b6a2-4ed97b499ba0"
      },
      "source": [
        "## **1. Identify Duplicates in HAM_10000**\n",
        "\n",
        "**`HAM_10000` have severe flaw :**\n",
        "\n",
        "> A caveat of HAM10000, despite its rather large size, is that it contains multiple images of the same lesion captured either from different viewing angles or at different magnification levels\n",
        "\n",
        "> the number of lesions with unique lesion IDs (HAM_xxx) is smaller than the number of images with unique image IDs (ISIC_xxx).\n",
        "\n",
        "> observe that the 10,015 images are in fact derived from only 7,470 unique lesions, and 1,956 of these lesion IDs (∼26.18%) contains 2 or more images: 1,423 lesions have 2 images, 490 lesions have 3 images, 34 lesions have 4 images, 5 lesions have 5 images, and 6 lesions have 4 images each.\n",
        "\n",
        "<img src = \"https://raw.githubusercontent.com/kyrillosishak/re-SkinCancer/main/assets/Near-duplicate_HAM10000.png\" height = 150> <img src = \"https://raw.githubusercontent.com/kyrillosishak/re-SkinCancer/main/assets/Near-duplicate2_HAM10000.png\" height = 150>\n",
        "\n",
        "*This images from \\[2\\].*\n",
        "\n",
        "This results in near-duplicates within the dataset, which can compromise the integrity of any machine learning model trained on it. The presence of near-duplicate images can lead to data leakage, where the model learns to recognize specific lesions rather than generalizing to new, unseen lesions.\n",
        "\n",
        "*The duplicates were identified using a tool called [FastDup](https://github.com/visual-layer/fastdup) in the repository.*"
      ],
      "id": "f8639793-4d5f-48dd-b6a2-4ed97b499ba0"
    },
    {
      "cell_type": "code",
      "execution_count": 1,
      "metadata": {
        "id": "0205de21-24fb-49d9-9d00-50f2e246baf0",
        "colab": {
          "base_uri": "https://localhost:8080/"
        },
        "outputId": "8f15d069-96df-4223-c0df-d5699688a252"
      },
      "outputs": [
        {
          "output_type": "stream",
          "name": "stdout",
          "text": [
            "  % Total    % Received % Xferd  Average Speed   Time    Time     Time  Current\n",
            "                                 Dload  Upload   Total   Spent    Left  Speed\n",
            "  0     0    0     0    0     0      0      0 --:--:-- --:--:-- --:--:--     0\n",
            "100 3051M    0 3051M    0     0  17.7M      0 --:--:--  0:02:52 --:--:-- 19.1M\n",
            "/content/data\n",
            "/content\n"
          ]
        }
      ],
      "source": [
        "# Download the dataset to dir data\n",
        "!curl -L -O -J -H \"X-Dataverse-key:$API_TOKEN\" https://dataverse.harvard.edu/api/access/dataset/:persistentId/?persistentId=doi:10.7910/DVN/DBW86T\n",
        "!unzip -q dataverse_files.zip\n",
        "!mkdir data\n",
        "%cd data\n",
        "!unzip -q ../HAM10000_images_part_1.zip\n",
        "!unzip -q ../HAM10000_images_part_2.zip\n",
        "%cd .."
      ],
      "id": "0205de21-24fb-49d9-9d00-50f2e246baf0"
    },
    {
      "cell_type": "code",
      "execution_count": 4,
      "metadata": {
        "id": "76b46754-49cc-413b-b55f-94cc83f078c7",
        "colab": {
          "base_uri": "https://localhost:8080/"
        },
        "outputId": "8e435f0f-b7ed-4073-dff1-6a5a39093ae6"
      },
      "outputs": [
        {
          "output_type": "stream",
          "name": "stdout",
          "text": [
            "Class names:  ['akiec', 'bcc', 'bkl', 'df', 'mel', 'nv', 'vasc']\n",
            "Label map:  {'akiec': 0, 'bcc': 1, 'bkl': 2, 'df': 3, 'mel': 4, 'nv': 5, 'vasc': 6}\n"
          ]
        }
      ],
      "source": [
        "import pandas as pd\n",
        "# Read the CSV file containing metadata for the HAM10000 dataset\n",
        "meta_data = pd.read_csv('HAM10000_metadata')\n",
        "\n",
        "# Group the image filenames by their class labels ('dx') and convert the groups to a dictionary\n",
        "# The dictionary keys are class labels and the values are lists of image filenames belonging to each class\n",
        "class_files = meta_data.groupby('dx')['image_id'].apply(list).to_dict()\n",
        "\n",
        "# Create a mapping from class names to integer indices\n",
        "# This is useful for converting class labels to numeric format for machine learning tasks\n",
        "label_map = {class_name: idx for idx, class_name in enumerate(class_files.keys())}\n",
        "\n",
        "# Create a list of class names\n",
        "class_names = [class_name for class_name in class_files.keys()]\n",
        "\n",
        "print(\"Class names: \",class_names)\n",
        "print(\"Label map: \",label_map)"
      ],
      "id": "76b46754-49cc-413b-b55f-94cc83f078c7"
    },
    {
      "cell_type": "markdown",
      "metadata": {
        "id": "6755a343-772f-400b-9a9f-73c0af93ace4"
      },
      "source": [
        "## **2. Clean the data**\n",
        "\n",
        "In `HAM_10000` there is problem in the data :\n",
        "\n",
        "It contains multiple images of the same lesion captured either from different viewing angles or at different magnification levels\n",
        "\n",
        "-   To fix this issue we will put the images with the same lesion_id in the train set and the rest of them will be in the validation set\n"
      ],
      "id": "6755a343-772f-400b-9a9f-73c0af93ace4"
    },
    {
      "cell_type": "code",
      "execution_count": 5,
      "metadata": {
        "id": "19bf8cad-e2dd-467b-ab49-f6d947d59daf"
      },
      "outputs": [],
      "source": [
        "import os\n",
        "import copy\n",
        "import math\n",
        "import torch\n",
        "import random\n",
        "import PIL.Image\n",
        "import numpy as np\n",
        "from tqdm import tqdm\n",
        "import torch.nn as nn\n",
        "import torch.optim as optim\n",
        "from torchvision import transforms\n",
        "from torch.utils.data import DataLoader, Dataset\n",
        "import matplotlib.pyplot as plt\n",
        "import pandas as pd\n",
        "import warnings\n",
        "warnings.filterwarnings(\"ignore\")\n",
        "from sklearn.metrics import confusion_matrix\n",
        "import matplotlib.pyplot as plt\n",
        "import seaborn as sns"
      ],
      "id": "19bf8cad-e2dd-467b-ab49-f6d947d59daf"
    },
    {
      "cell_type": "markdown",
      "metadata": {
        "id": "0f624def-8a06-4c0b-8e08-5787a20f7641"
      },
      "source": [
        "### Loading dataset"
      ],
      "id": "0f624def-8a06-4c0b-8e08-5787a20f7641"
    },
    {
      "cell_type": "code",
      "execution_count": 6,
      "metadata": {
        "id": "1aa4a339-a658-4960-87f6-c4618d7ba431"
      },
      "outputs": [],
      "source": [
        "class SkinLesionDataset(Dataset):\n",
        "    \"\"\"\n",
        "    A custom dataset class for loading and transforming images of skin lesions along with their labels.\n",
        "\n",
        "    Args:\n",
        "        image_list (list of str): List of image filenames.\n",
        "        labels (list of int): List of labels corresponding to each image.\n",
        "        transform (callable, optional): Optional transform to be applied on an image sample.\n",
        "    \"\"\"\n",
        "    def __init__(self, image_list, labels, transform=None):\n",
        "        self.image_list = image_list\n",
        "        self.labels = labels\n",
        "        self.transform = transform\n",
        "\n",
        "    def __len__(self):\n",
        "        return len(self.image_list)\n",
        "\n",
        "    def __getitem__(self, idx):\n",
        "        img_path = self.image_list[idx]\n",
        "        img_path = \"./data/\"+img_path+\".jpg\"\n",
        "        image = PIL.Image.open(img_path).convert('RGB')\n",
        "        if self.transform:\n",
        "            image = self.transform(image)\n",
        "        label = self.labels[idx]\n",
        "        return image, label"
      ],
      "id": "1aa4a339-a658-4960-87f6-c4618d7ba431"
    },
    {
      "cell_type": "code",
      "source": [
        "def process_train_val_loader(df, target_size, train_transform, val_transform):\n",
        "    \"\"\"\n",
        "    Processes and prepares the training and validation data loaders.\n",
        "\n",
        "    Args:\n",
        "        target_size (int): The desired number of training images after augmentation.\n",
        "        train_transform (callable): Transformations to be applied to training images.\n",
        "        val_transform (callable): Transformations to be applied to validation images.\n",
        "\n",
        "    Returns:\n",
        "        tuple: A tuple containing the training dataset, validation dataset, training data loader, and validation data loader.\n",
        "    \"\"\"\n",
        "    # Load metadata and initialize lists\n",
        "    class_files = df.groupby('dx')['image_id'].apply(list).to_dict()\n",
        "    label_map = {class_name: idx for idx, class_name in enumerate(class_files.keys())}\n",
        "\n",
        "    train_images, train_labels, val_images, val_labels = [], [], [], []\n",
        "\n",
        "    # Process each class to remove confusing images and handle similar ones\n",
        "    for class_name, image_list in class_files.items():\n",
        "\n",
        "        labels = [label_map[class_name]] * len(image_list)\n",
        "        train_dataset, val_dataset = augment_and_split_data(df, image_list, labels, train_transform, val_transform, target_size)\n",
        "\n",
        "        train_images.extend(train_dataset.image_list)\n",
        "        train_labels.extend(train_dataset.labels)\n",
        "        val_images.extend(val_dataset.image_list)\n",
        "        val_labels.extend(val_dataset.labels)\n",
        "\n",
        "    train_dataset = SkinLesionDataset(train_images, train_labels, transform=train_transform)\n",
        "    val_dataset = SkinLesionDataset(val_images, val_labels, transform=val_transform)\n",
        "\n",
        "    train_loader = DataLoader(train_dataset, batch_size=10, shuffle=True)\n",
        "    val_loader = DataLoader(val_dataset, batch_size=10, shuffle=False)\n",
        "\n",
        "    return train_dataset, val_dataset, train_loader, val_loader\n",
        "\n",
        "\n",
        "def augment_and_split_data(df, image_list, label_list, train_transform, val_transform, target_size=300):\n",
        "    \"\"\"\n",
        "    Augments and splits a dataset of images and labels into training and validation sets.\n",
        "\n",
        "    Args:\n",
        "        df (pd.DataFrame): DataFrame containing 'image_id' and 'lesion_id' columns.\n",
        "        image_list (list of str): List of image filenames.\n",
        "        label_list (list of int): List of labels corresponding to each image.\n",
        "        train_transform (callable): Transformations to be applied to training images.\n",
        "        val_transform (callable): Transformations to be applied to validation images.\n",
        "        target_size (int, optional): Desired number of training images after augmentation. Default is 300.\n",
        "\n",
        "    Returns:\n",
        "        tuple: A tuple containing the training dataset and validation dataset.\n",
        "    \"\"\"\n",
        "    combined = list(zip(image_list, label_list))\n",
        "    random.shuffle(combined)\n",
        "    image_list[:], label_list[:] = zip(*combined)\n",
        "\n",
        "    lesion_dict = df.set_index('image_id')['lesion_id'].to_dict()\n",
        "    lesion_groups = {lesion_id: [] for lesion_id in lesion_dict.values()}\n",
        "\n",
        "    for img, lbl in combined:\n",
        "        lesion_id = lesion_dict[img]\n",
        "        lesion_groups[lesion_id].append((img, lbl))\n",
        "\n",
        "    train_images_labels, val_images_labels = [], []\n",
        "\n",
        "    for lesion_id, imgs_labels in lesion_groups.items():\n",
        "        if len(val_images_labels) + len(imgs_labels) <= 0.2 * len(image_list) :\n",
        "            val_images_labels.extend(imgs_labels)\n",
        "        else:\n",
        "            train_images_labels.extend(imgs_labels)\n",
        "\n",
        "    train_images, train_labels = zip(*train_images_labels)\n",
        "    val_images, val_labels = zip(*val_images_labels)\n",
        "\n",
        "    if len(train_images) > 360:\n",
        "        train_images = train_images[:360]\n",
        "        train_labels = train_labels[:360]\n",
        "    if len(val_images) > 90:\n",
        "        val_images = val_images[:90]\n",
        "        val_labels = val_labels[:90]\n",
        "\n",
        "    augmented_images, augmented_labels = [], []\n",
        "    while len(augmented_images) < target_size:\n",
        "        for img, label in zip(train_images, train_labels):\n",
        "            augmented_images.append(img)\n",
        "            augmented_labels.append(label)\n",
        "            if len(augmented_images) >= target_size:\n",
        "                break\n",
        "\n",
        "    train_dataset = SkinLesionDataset(augmented_images, augmented_labels, transform=train_transform)\n",
        "    val_dataset = SkinLesionDataset(val_images, val_labels, transform=val_transform)\n",
        "\n",
        "    return train_dataset, val_dataset\n"
      ],
      "metadata": {
        "id": "mssyE09R8qRA"
      },
      "id": "mssyE09R8qRA",
      "execution_count": 11,
      "outputs": []
    },
    {
      "cell_type": "code",
      "execution_count": 8,
      "metadata": {
        "id": "0374aeed-f7d0-4c91-bbcb-27644f8ef11e"
      },
      "outputs": [],
      "source": [
        "train_transform = transforms.Compose([\n",
        "    transforms.Resize((299, 299)),\n",
        "    transforms.RandomHorizontalFlip(),\n",
        "    transforms.RandomVerticalFlip(),\n",
        "    transforms.RandomAffine(\n",
        "        degrees=30,\n",
        "        translate=(0.1, 0.1),\n",
        "        scale=None,\n",
        "        shear=10\n",
        "    ),\n",
        "    transforms.ToTensor()\n",
        "])\n",
        "\n",
        "val_transform = transforms.Compose([\n",
        "    transforms.Resize((299, 299)),\n",
        "    transforms.ToTensor()\n",
        "])"
      ],
      "id": "0374aeed-f7d0-4c91-bbcb-27644f8ef11e"
    },
    {
      "cell_type": "code",
      "execution_count": 9,
      "metadata": {
        "id": "6216e412-853a-49c9-a53a-15b6b3565378"
      },
      "outputs": [],
      "source": [
        "meta_data = pd.read_csv('HAM10000_metadata')"
      ],
      "id": "6216e412-853a-49c9-a53a-15b6b3565378"
    },
    {
      "cell_type": "code",
      "execution_count": 12,
      "metadata": {
        "id": "eb2b735f-5e47-448b-9bbb-3ac942e62fa5",
        "colab": {
          "base_uri": "https://localhost:8080/"
        },
        "outputId": "b93845ce-924c-4ac2-b3c3-d80d0ab68715"
      },
      "outputs": [
        {
          "output_type": "stream",
          "name": "stdout",
          "text": [
            "Size of trainset : 7000\n",
            "Size of validationset : 476\n"
          ]
        }
      ],
      "source": [
        "number = 1000\n",
        "num_epochs = 100\n",
        "patience = 15\n",
        "device = torch.device(\"cuda\" if torch.cuda.is_available() else \"cpu\")\n",
        "train_dataset, val_dataset, train_loader, val_loader = process_train_val_loader(meta_data, number, train_transform, val_transform)\n",
        "print(\"Size of trainset : \" + str(len(train_dataset.image_list)))\n",
        "print(\"Size of validationset : \" + str(len(val_dataset.image_list)))"
      ],
      "id": "eb2b735f-5e47-448b-9bbb-3ac942e62fa5"
    },
    {
      "cell_type": "markdown",
      "metadata": {
        "id": "545861c7-836e-46f3-8254-e340f4ef93c6"
      },
      "source": [
        "After cleaning the data we should use the code in [Reproducing the original paper notebook](Markdowns/01-reproducingSkinCancer.md) to train the model on the clean data."
      ],
      "id": "545861c7-836e-46f3-8254-e340f4ef93c6"
    },
    {
      "cell_type": "markdown",
      "metadata": {
        "id": "df894df5-b00d-461f-af44-9d83ec993657"
      },
      "source": [
        "## **3. Evaluate Model Performance on new clean validation data**\n",
        "\n",
        "1.  Downloading the model trained on the cleaned data and the model trained on duplicated data.\n",
        "2.  Downloading the datasets that is used in every model.\n",
        "3.  Evaluate each model"
      ],
      "id": "df894df5-b00d-461f-af44-9d83ec993657"
    },
    {
      "cell_type": "code",
      "execution_count": 15,
      "metadata": {
        "id": "ba3028f7-b963-4b39-8e8b-2bf33f1f73ff"
      },
      "outputs": [],
      "source": [
        "!wget -q https://huggingface.co/KyrillosIshak/Re-SkinCancer/resolve/main/Experiments/exp4/val_loader_clean_lesion_only.pt\n",
        "!wget -q https://huggingface.co/KyrillosIshak/Re-SkinCancer/resolve/main/Experiments/exp2/val_loader.pt"
      ],
      "id": "ba3028f7-b963-4b39-8e8b-2bf33f1f73ff"
    },
    {
      "cell_type": "code",
      "execution_count": 17,
      "metadata": {
        "id": "7d59f278-443e-479c-b19d-39af70936819"
      },
      "outputs": [],
      "source": [
        "val_loader_clean = torch.load('val_loader_clean_lesion_only.pt')\n",
        "val_loader = torch.load('val_loader.pt')"
      ],
      "id": "7d59f278-443e-479c-b19d-39af70936819"
    },
    {
      "cell_type": "code",
      "execution_count": 18,
      "metadata": {
        "id": "7b51c82d-499e-4f22-8f54-d45373869e5d"
      },
      "outputs": [],
      "source": [
        "!wget -q https://huggingface.co/KyrillosIshak/Re-SkinCancer/resolve/main/Experiments/exp4/1000_clean_lesion_only.pt\n",
        "!wget -q https://huggingface.co/KyrillosIshak/Re-SkinCancer/resolve/main/Experiments/exp2/1000.pt"
      ],
      "id": "7b51c82d-499e-4f22-8f54-d45373869e5d"
    },
    {
      "cell_type": "code",
      "execution_count": 19,
      "metadata": {
        "id": "5858bf04-75b1-447a-b72d-4c65efb8f433"
      },
      "outputs": [],
      "source": [
        "class ModifiedInceptionResNetV2(nn.Module):\n",
        "    \"\"\"ModifiedInceptionResNetV2 class for transfer learning with custom classifier.\n",
        "\n",
        "      This class implements a modified version of the Inception ResNet V2 model for image classification tasks.\n",
        "      It leverages transfer learning by freezing the pre-trained feature extraction layers from a\n",
        "      provided Inception ResNet V2 model and adding a custom classifier on top.\n",
        "\n",
        "      Args:\n",
        "          original_model (torchvision.models.InceptionV3): A pre-trained Inception ResNet V2 model\n",
        "              (typically loaded with `pretrained=True`).\n",
        "          num_classes (int, optional): The number of output classes for the classification task.\n",
        "              Defaults to 7.\n",
        "\n",
        "      Attributes:\n",
        "          features (nn.Sequential): A sequential container holding all layers from the original model\n",
        "              except the final classifier (Softmax layer).\n",
        "          classifier (nn.Sequential): A custom classifier consisting of:\n",
        "              - nn.Flatten(): Flattens the input from the feature extractor.\n",
        "              - nn.Linear(1536, 64): First fully-connected layer with 64 units and ReLU activation.\n",
        "              - nn.Linear(64, num_classes): Second fully-connected layer with 'num_classes' units\n",
        "                and Softmax activation for probability distribution of the classes.\n",
        "    \"\"\"\n",
        "    def __init__(self, original_model, num_classes=7):\n",
        "        super(ModifiedInceptionResNetV2, self).__init__()\n",
        "\n",
        "        # Retain all layers except the final classifier(Softmax)\n",
        "        self.features = nn.Sequential(*list(original_model.children())[:-1])\n",
        "\n",
        "        # Custom classifier\n",
        "        self.classifier = nn.Sequential(\n",
        "            nn.Flatten(),\n",
        "            # 1536 output from the last layer after removing the classifier\n",
        "            nn.Linear(1536, 64),  # First fully connected layer\n",
        "            nn.ReLU(),\n",
        "            nn.Linear(64, num_classes),  # Second fully connected layer\n",
        "            nn.Softmax(dim=1)\n",
        "        )\n",
        "\n",
        "    def forward(self, x):\n",
        "        x = self.features(x)\n",
        "        x = self.classifier(x)\n",
        "        return x"
      ],
      "id": "5858bf04-75b1-447a-b72d-4c65efb8f433"
    },
    {
      "cell_type": "code",
      "execution_count": 20,
      "metadata": {
        "id": "2783fa0e-28af-487c-960b-a2e31c83d204",
        "colab": {
          "base_uri": "https://localhost:8080/"
        },
        "outputId": "2e6c8383-29f7-4d3f-fb63-82a8ca33a696"
      },
      "outputs": [
        {
          "output_type": "stream",
          "name": "stdout",
          "text": [
            "\u001b[2K     \u001b[90m━━━━━━━━━━━━━━━━━━━━━━━━━━━━━━━━━━━━━━━━\u001b[0m \u001b[32m53.8/53.8 kB\u001b[0m \u001b[31m2.9 MB/s\u001b[0m eta \u001b[36m0:00:00\u001b[0m\n",
            "\u001b[2K   \u001b[90m━━━━━━━━━━━━━━━━━━━━━━━━━━━━━━━━━━━━━━━━\u001b[0m \u001b[32m2.3/2.3 MB\u001b[0m \u001b[31m40.1 MB/s\u001b[0m eta \u001b[36m0:00:00\u001b[0m\n",
            "\u001b[?25h"
          ]
        }
      ],
      "source": [
        "!pip -q install timm"
      ],
      "id": "2783fa0e-28af-487c-960b-a2e31c83d204"
    },
    {
      "cell_type": "code",
      "execution_count": 21,
      "metadata": {
        "id": "e12073dc-be15-4553-acec-cd3a07e1ff45",
        "colab": {
          "base_uri": "https://localhost:8080/",
          "height": 67,
          "referenced_widgets": [
            "8d4cedf68f214ab193e146e292910236",
            "4c16853cb37f4e3ebf3f27c43dadd33e",
            "971794effe9440aeaa4e12d38fa09536",
            "25b712c07e7e478887565db4b250008b",
            "999e97f8224246eeb426ec7ca7f3f4fb",
            "9cf7f2b518a84cb094c2b5b0c7133624",
            "eb134c917dcd4b3c9de91c0b6a88b23a",
            "97b0897acc284c92b58be92803754cde",
            "fc914ac3e717444fbac5258529c39ca0",
            "cfedd38f620f4af094efa31c8a56a850",
            "385692c0ace642d69fdd76b19422f9f7"
          ]
        },
        "outputId": "51112968-8656-4dc0-8af3-44aebb908e82"
      },
      "outputs": [
        {
          "output_type": "display_data",
          "data": {
            "text/plain": [
              "model.safetensors:   0%|          | 0.00/224M [00:00<?, ?B/s]"
            ],
            "application/vnd.jupyter.widget-view+json": {
              "version_major": 2,
              "version_minor": 0,
              "model_id": "8d4cedf68f214ab193e146e292910236"
            }
          },
          "metadata": {}
        },
        {
          "output_type": "stream",
          "name": "stdout",
          "text": [
            "Loaded model successfully.\n"
          ]
        }
      ],
      "source": [
        "from timm import create_model\n",
        "device = torch.device(\"cuda\" if torch.cuda.is_available() else \"cpu\")\n",
        "model = create_model('inception_resnet_v2', pretrained=True,num_classes=7)\n",
        "modified_model = ModifiedInceptionResNetV2(model, num_classes=7)\n",
        "\n",
        "clean_model = copy.deepcopy(modified_model)\n",
        "Dataleaked_model = copy.deepcopy(modified_model)\n",
        "\n",
        "clean_model.load_state_dict(torch.load('1000_clean_lesion_only.pt')['model'])\n",
        "Dataleaked_model.load_state_dict(torch.load('1000.pt')['model'])\n",
        "\n",
        "clean_model.to(device)\n",
        "Dataleaked_model.to(device)\n",
        "\n",
        "clean_model.eval()\n",
        "Dataleaked_model.eval()\n",
        "print(\"Loaded model successfully.\")"
      ],
      "id": "e12073dc-be15-4553-acec-cd3a07e1ff45"
    },
    {
      "cell_type": "code",
      "execution_count": 22,
      "metadata": {
        "id": "d9d6a1de-f77a-4db1-9677-553190a28e4d"
      },
      "outputs": [],
      "source": [
        "def get_predictions_and_labels(model, data_loader, device):\n",
        "    model.eval()\n",
        "    all_preds = []\n",
        "    all_labels = []\n",
        "    with torch.no_grad():\n",
        "        for images, labels in data_loader:\n",
        "            images, labels = images.to(device), labels.to(device)\n",
        "            outputs = model(images)\n",
        "            _, preds = torch.max(outputs, 1)\n",
        "            all_preds.extend(preds.cpu().numpy())\n",
        "            all_labels.extend(labels.cpu().numpy())\n",
        "    return np.array(all_preds), np.array(all_labels)"
      ],
      "id": "d9d6a1de-f77a-4db1-9677-553190a28e4d"
    },
    {
      "cell_type": "code",
      "execution_count": 23,
      "metadata": {
        "id": "e796f3ca-530f-461e-b65c-cd2a8bab8b1a"
      },
      "outputs": [],
      "source": [
        "val_preds_duplicates, val_labels_duplicates = get_predictions_and_labels(Dataleaked_model, val_loader, device)\n",
        "val_preds_clean, val_labels_clean = get_predictions_and_labels(clean_model, val_loader_clean, device)"
      ],
      "id": "e796f3ca-530f-461e-b65c-cd2a8bab8b1a"
    },
    {
      "cell_type": "code",
      "execution_count": 24,
      "metadata": {
        "id": "e8346ad6-f0b0-42ea-8f3f-a6c707256802",
        "colab": {
          "base_uri": "https://localhost:8080/"
        },
        "outputId": "5f800259-a538-4efd-a556-d1243123c32c"
      },
      "outputs": [
        {
          "output_type": "stream",
          "name": "stdout",
          "text": [
            "Validation Accuracy of the duplicated set: 78.8703\n",
            "Validation Accuracy of the clean set: 72.0588\n"
          ]
        }
      ],
      "source": [
        "accuracy_duplicates = np.mean(val_preds_duplicates == val_labels_duplicates)*100\n",
        "accuracy_clean = np.mean(val_preds_clean == val_labels_clean)*100\n",
        "print(f\"Validation Accuracy of the duplicated set: {accuracy_duplicates:.4f}\")\n",
        "print(f\"Validation Accuracy of the clean set: {accuracy_clean:.4f}\")"
      ],
      "id": "e8346ad6-f0b0-42ea-8f3f-a6c707256802"
    },
    {
      "cell_type": "code",
      "execution_count": 25,
      "metadata": {
        "id": "602f6581-e556-4835-9ce3-21fd5d7f34a4"
      },
      "outputs": [],
      "source": [
        "def plot_confusion_matrix(cm, class_names):\n",
        "    plt.figure(figsize=(10, 8))\n",
        "    sns.heatmap(cm, annot=True, fmt='d', cmap='Blues', xticklabels=class_names, yticklabels=class_names)\n",
        "    plt.xlabel('Predicted Labels')\n",
        "    plt.ylabel('True Labels')\n",
        "    plt.title('Confusion Matrix')\n",
        "    plt.show()"
      ],
      "id": "602f6581-e556-4835-9ce3-21fd5d7f34a4"
    },
    {
      "cell_type": "code",
      "execution_count": 26,
      "metadata": {
        "id": "fde3f8fa-7e9d-4868-84d5-c2a732a9c01e"
      },
      "outputs": [],
      "source": [
        "# Compute confusion matrix\n",
        "cm1 = confusion_matrix(val_labels_duplicates, val_preds_duplicates)\n",
        "cm2 = confusion_matrix(val_labels_clean, val_preds_clean)"
      ],
      "id": "fde3f8fa-7e9d-4868-84d5-c2a732a9c01e"
    },
    {
      "cell_type": "code",
      "execution_count": 27,
      "metadata": {
        "id": "41b64043-93f8-4bb4-8d57-c6230b6d870a",
        "colab": {
          "base_uri": "https://localhost:8080/",
          "height": 718
        },
        "outputId": "4bd65bc2-e9af-46ce-d232-8b5640de8089"
      },
      "outputs": [
        {
          "output_type": "display_data",
          "data": {
            "text/plain": [
              "<Figure size 1000x800 with 2 Axes>"
            ],
            "image/png": "[encoded data removed]"
          },
          "metadata": {}
        }
      ],
      "source": [
        "# Plot confusion matrix\n",
        "plot_confusion_matrix(cm1, class_names)"
      ],
      "id": "41b64043-93f8-4bb4-8d57-c6230b6d870a"
    },
    {
      "cell_type": "code",
      "execution_count": 28,
      "metadata": {
        "id": "69d30d57-af5b-4693-8525-bd9209ae8071",
        "colab": {
          "base_uri": "https://localhost:8080/",
          "height": 718
        },
        "outputId": "7e965c3d-caae-49b1-b7e3-5771a4093509"
      },
      "outputs": [
        {
          "output_type": "display_data",
          "data": {
            "text/plain": [
              "<Figure size 1000x800 with 2 Axes>"
            ],
            "image/png": "[encoded data removed]"
          },
          "metadata": {}
        }
      ],
      "source": [
        "# Plot confusion matrix\n",
        "plot_confusion_matrix(cm2, class_names)"
      ],
      "id": "69d30d57-af5b-4693-8525-bd9209ae8071"
    },
    {
      "cell_type": "markdown",
      "metadata": {
        "id": "5a3a5827-e1ff-4540-aa14-6ec8f4f74fc3"
      },
      "source": [
        "As we see here, the model tested on images with near-duplicates in the training set achieves higher accuracy than the model tested on clean data, with a validation accuracy of 78.8703% compared to 72.0588%. This discrepancy highlights a significant issue : the presence of near-duplicate images in datasets can artificially inflate performance metrics, leading to misleading conclusions about a model’s efficacy. This has implications on the reproducibility and reliability of published research. Papers that report inflated performance metrics due to such data issues may set unrealistic benchmarks, making it difficult for subsequent researchers to replicate results or make fair comparisons. To ensure the integrity and credibility of machine learning research, it is crucial to rigorously check for and address near-duplicates and other forms of data leakage before publishing results."
      ],
      "id": "5a3a5827-e1ff-4540-aa14-6ec8f4f74fc3"
    },
    {
      "cell_type": "markdown",
      "metadata": {
        "id": "be3cfe3c-4663-4b2f-a2a1-d980039247f8"
      },
      "source": [
        "## **Refrences**\n",
        "\n",
        "1.  [Leakage and the Reproducibility Crisis in ML-based Science](https://arxiv.org/abs/2207.07048)\n",
        "\n",
        "2.  [Investigating the Quality of DermaMNIST and Fitzpatrick17k Dermatological Image Dataset](https://arxiv.org/pdf/2401.14497)"
      ],
      "id": "be3cfe3c-4663-4b2f-a2a1-d980039247f8"
    }
  ],
  "nbformat": 4,
  "nbformat_minor": 5,
  "metadata": {
    "colab": {
      "provenance": [],
      "gpuType": "T4",
      "include_colab_link": true
    },
    "accelerator": "GPU",
    "language_info": {
      "name": "python"
    },
    "kernelspec": {
      "name": "python3",
      "display_name": "Python 3"
    },
    "widgets": {
      "application/vnd.jupyter.widget-state+json": {
        "8d4cedf68f214ab193e146e292910236": {
          "model_module": "@jupyter-widgets/controls",
          "model_name": "HBoxModel",
          "model_module_version": "1.5.0",
          "state": {
            "_dom_classes": [],
            "_model_module": "@jupyter-widgets/controls",
            "_model_module_version": "1.5.0",
            "_model_name": "HBoxModel",
            "_view_count": null,
            "_view_module": "@jupyter-widgets/controls",
            "_view_module_version": "1.5.0",
            "_view_name": "HBoxView",
            "box_style": "",
            "children": [
              "IPY_MODEL_4c16853cb37f4e3ebf3f27c43dadd33e",
              "IPY_MODEL_971794effe9440aeaa4e12d38fa09536",
              "IPY_MODEL_25b712c07e7e478887565db4b250008b"
            ],
            "layout": "IPY_MODEL_999e97f8224246eeb426ec7ca7f3f4fb"
          }
        },
        "4c16853cb37f4e3ebf3f27c43dadd33e": {
          "model_module": "@jupyter-widgets/controls",
          "model_name": "HTMLModel",
          "model_module_version": "1.5.0",
          "state": {
            "_dom_classes": [],
            "_model_module": "@jupyter-widgets/controls",
            "_model_module_version": "1.5.0",
            "_model_name": "HTMLModel",
            "_view_count": null,
            "_view_module": "@jupyter-widgets/controls",
            "_view_module_version": "1.5.0",
            "_view_name": "HTMLView",
            "description": "",
            "description_tooltip": null,
            "layout": "IPY_MODEL_9cf7f2b518a84cb094c2b5b0c7133624",
            "placeholder": "​",
            "style": "IPY_MODEL_eb134c917dcd4b3c9de91c0b6a88b23a",
            "value": "model.safetensors: 100%"
          }
        },
        "971794effe9440aeaa4e12d38fa09536": {
          "model_module": "@jupyter-widgets/controls",
          "model_name": "FloatProgressModel",
          "model_module_version": "1.5.0",
          "state": {
            "_dom_classes": [],
            "_model_module": "@jupyter-widgets/controls",
            "_model_module_version": "1.5.0",
            "_model_name": "FloatProgressModel",
            "_view_count": null,
            "_view_module": "@jupyter-widgets/controls",
            "_view_module_version": "1.5.0",
            "_view_name": "ProgressView",
            "bar_style": "success",
            "description": "",
            "description_tooltip": null,
            "layout": "IPY_MODEL_97b0897acc284c92b58be92803754cde",
            "max": 223748230,
            "min": 0,
            "orientation": "horizontal",
            "style": "IPY_MODEL_fc914ac3e717444fbac5258529c39ca0",
            "value": 223748230
          }
        },
        "25b712c07e7e478887565db4b250008b": {
          "model_module": "@jupyter-widgets/controls",
          "model_name": "HTMLModel",
          "model_module_version": "1.5.0",
          "state": {
            "_dom_classes": [],
            "_model_module": "@jupyter-widgets/controls",
            "_model_module_version": "1.5.0",
            "_model_name": "HTMLModel",
            "_view_count": null,
            "_view_module": "@jupyter-widgets/controls",
            "_view_module_version": "1.5.0",
            "_view_name": "HTMLView",
            "description": "",
            "description_tooltip": null,
            "layout": "IPY_MODEL_cfedd38f620f4af094efa31c8a56a850",
            "placeholder": "​",
            "style": "IPY_MODEL_385692c0ace642d69fdd76b19422f9f7",
            "value": " 224M/224M [00:01&lt;00:00, 143MB/s]"
          }
        },
        "999e97f8224246eeb426ec7ca7f3f4fb": {
          "model_module": "@jupyter-widgets/base",
          "model_name": "LayoutModel",
          "model_module_version": "1.2.0",
          "state": {
            "_model_module": "@jupyter-widgets/base",
            "_model_module_version": "1.2.0",
            "_model_name": "LayoutModel",
            "_view_count": null,
            "_view_module": "@jupyter-widgets/base",
            "_view_module_version": "1.2.0",
            "_view_name": "LayoutView",
            "align_content": null,
            "align_items": null,
            "align_self": null,
            "border": null,
            "bottom": null,
            "display": null,
            "flex": null,
            "flex_flow": null,
            "grid_area": null,
            "grid_auto_columns": null,
            "grid_auto_flow": null,
            "grid_auto_rows": null,
            "grid_column": null,
            "grid_gap": null,
            "grid_row": null,
            "grid_template_areas": null,
            "grid_template_columns": null,
            "grid_template_rows": null,
            "height": null,
            "justify_content": null,
            "justify_items": null,
            "left": null,
            "margin": null,
            "max_height": null,
            "max_width": null,
            "min_height": null,
            "min_width": null,
            "object_fit": null,
            "object_position": null,
            "order": null,
            "overflow": null,
            "overflow_x": null,
            "overflow_y": null,
            "padding": null,
            "right": null,
            "top": null,
            "visibility": null,
            "width": null
          }
        },
        "9cf7f2b518a84cb094c2b5b0c7133624": {
          "model_module": "@jupyter-widgets/base",
          "model_name": "LayoutModel",
          "model_module_version": "1.2.0",
          "state": {
            "_model_module": "@jupyter-widgets/base",
            "_model_module_version": "1.2.0",
            "_model_name": "LayoutModel",
            "_view_count": null,
            "_view_module": "@jupyter-widgets/base",
            "_view_module_version": "1.2.0",
            "_view_name": "LayoutView",
            "align_content": null,
            "align_items": null,
            "align_self": null,
            "border": null,
            "bottom": null,
            "display": null,
            "flex": null,
            "flex_flow": null,
            "grid_area": null,
            "grid_auto_columns": null,
            "grid_auto_flow": null,
            "grid_auto_rows": null,
            "grid_column": null,
            "grid_gap": null,
            "grid_row": null,
            "grid_template_areas": null,
            "grid_template_columns": null,
            "grid_template_rows": null,
            "height": null,
            "justify_content": null,
            "justify_items": null,
            "left": null,
            "margin": null,
            "max_height": null,
            "max_width": null,
            "min_height": null,
            "min_width": null,
            "object_fit": null,
            "object_position": null,
            "order": null,
            "overflow": null,
            "overflow_x": null,
            "overflow_y": null,
            "padding": null,
            "right": null,
            "top": null,
            "visibility": null,
            "width": null
          }
        },
        "eb134c917dcd4b3c9de91c0b6a88b23a": {
          "model_module": "@jupyter-widgets/controls",
          "model_name": "DescriptionStyleModel",
          "model_module_version": "1.5.0",
          "state": {
            "_model_module": "@jupyter-widgets/controls",
            "_model_module_version": "1.5.0",
            "_model_name": "DescriptionStyleModel",
            "_view_count": null,
            "_view_module": "@jupyter-widgets/base",
            "_view_module_version": "1.2.0",
            "_view_name": "StyleView",
            "description_width": ""
          }
        },
        "97b0897acc284c92b58be92803754cde": {
          "model_module": "@jupyter-widgets/base",
          "model_name": "LayoutModel",
          "model_module_version": "1.2.0",
          "state": {
            "_model_module": "@jupyter-widgets/base",
            "_model_module_version": "1.2.0",
            "_model_name": "LayoutModel",
            "_view_count": null,
            "_view_module": "@jupyter-widgets/base",
            "_view_module_version": "1.2.0",
            "_view_name": "LayoutView",
            "align_content": null,
            "align_items": null,
            "align_self": null,
            "border": null,
            "bottom": null,
            "display": null,
            "flex": null,
            "flex_flow": null,
            "grid_area": null,
            "grid_auto_columns": null,
            "grid_auto_flow": null,
            "grid_auto_rows": null,
            "grid_column": null,
            "grid_gap": null,
            "grid_row": null,
            "grid_template_areas": null,
            "grid_template_columns": null,
            "grid_template_rows": null,
            "height": null,
            "justify_content": null,
            "justify_items": null,
            "left": null,
            "margin": null,
            "max_height": null,
            "max_width": null,
            "min_height": null,
            "min_width": null,
            "object_fit": null,
            "object_position": null,
            "order": null,
            "overflow": null,
            "overflow_x": null,
            "overflow_y": null,
            "padding": null,
            "right": null,
            "top": null,
            "visibility": null,
            "width": null
          }
        },
        "fc914ac3e717444fbac5258529c39ca0": {
          "model_module": "@jupyter-widgets/controls",
          "model_name": "ProgressStyleModel",
          "model_module_version": "1.5.0",
          "state": {
            "_model_module": "@jupyter-widgets/controls",
            "_model_module_version": "1.5.0",
            "_model_name": "ProgressStyleModel",
            "_view_count": null,
            "_view_module": "@jupyter-widgets/base",
            "_view_module_version": "1.2.0",
            "_view_name": "StyleView",
            "bar_color": null,
            "description_width": ""
          }
        },
        "cfedd38f620f4af094efa31c8a56a850": {
          "model_module": "@jupyter-widgets/base",
          "model_name": "LayoutModel",
          "model_module_version": "1.2.0",
          "state": {
            "_model_module": "@jupyter-widgets/base",
            "_model_module_version": "1.2.0",
            "_model_name": "LayoutModel",
            "_view_count": null,
            "_view_module": "@jupyter-widgets/base",
            "_view_module_version": "1.2.0",
            "_view_name": "LayoutView",
            "align_content": null,
            "align_items": null,
            "align_self": null,
            "border": null,
            "bottom": null,
            "display": null,
            "flex": null,
            "flex_flow": null,
            "grid_area": null,
            "grid_auto_columns": null,
            "grid_auto_flow": null,
            "grid_auto_rows": null,
            "grid_column": null,
            "grid_gap": null,
            "grid_row": null,
            "grid_template_areas": null,
            "grid_template_columns": null,
            "grid_template_rows": null,
            "height": null,
            "justify_content": null,
            "justify_items": null,
            "left": null,
            "margin": null,
            "max_height": null,
            "max_width": null,
            "min_height": null,
            "min_width": null,
            "object_fit": null,
            "object_position": null,
            "order": null,
            "overflow": null,
            "overflow_x": null,
            "overflow_y": null,
            "padding": null,
            "right": null,
            "top": null,
            "visibility": null,
            "width": null
          }
        },
        "385692c0ace642d69fdd76b19422f9f7": {
          "model_module": "@jupyter-widgets/controls",
          "model_name": "DescriptionStyleModel",
          "model_module_version": "1.5.0",
          "state": {
            "_model_module": "@jupyter-widgets/controls",
            "_model_module_version": "1.5.0",
            "_model_name": "DescriptionStyleModel",
            "_view_count": null,
            "_view_module": "@jupyter-widgets/base",
            "_view_module_version": "1.2.0",
            "_view_name": "StyleView",
            "description_width": ""
          }
        }
      }
    }
  }
}