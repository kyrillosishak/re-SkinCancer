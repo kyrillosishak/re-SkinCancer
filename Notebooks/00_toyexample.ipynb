{
  "cells": [
    {
      "cell_type": "markdown",
      "metadata": {
        "id": "view-in-github",
        "colab_type": "text"
      },
      "source": [
        "<a href=\"https://colab.research.google.com/github/kyrillosishak/re-SkinCancer/blob/main/Notebooks/00_toyexample.ipynb\" target=\"_parent\"><img src=\"https://colab.research.google.com/assets/colab-badge.svg\" alt=\"Open In Colab\"/></a>"
      ]
    },
    {
      "cell_type": "markdown",
      "metadata": {
        "id": "418f1433-78f6-4025-88b3-fea5c62a4330"
      },
      "source": [
        "# Toy Example"
      ],
      "id": "418f1433-78f6-4025-88b3-fea5c62a4330"
    },
    {
      "cell_type": "markdown",
      "metadata": {
        "id": "9d27bdfa-f2b3-447d-bbd5-7cb6f1b5fc01"
      },
      "source": [
        "## **1. Introduction**\n",
        "\n",
        "Machine learning pipelines, like any code, are susceptible to errors. One such error, data leakage between training and testing data, can inflate a model’s apparent accuracy during evaluation. This can lead to deploying poor-performing models in production. Leakage often occurs unintentionally due to poor practices, and detecting it manually can be difficult. While encountering duplicate data in training and testing sets might seem like an obvious oversight, it’s surprisingly common \\[1\\].\n",
        "\n",
        "✨ The objective of this notebook is :\n",
        "\n",
        "-   Understand the concept of data leakage, specifically focusing on duplicate data leakage.\n",
        "-   Create synthetic data with intentional duplicates to illustrate the concept.\n",
        "-   Detect and mitigate duplicate data leakage in a real-world dataset (CIFAR-100).\n",
        "-   Train machine learning models and evaluate their performance before and after removing duplicates.\n",
        "-   Critically analyze the impact of duplicate data leakage on model performance.\n",
        "\n",
        "🔍 In this notebook, we will explore: 1. A toy example with **synthetic data** to illustrate duplicate data leakage. 2. A real-world example using the **CIFAR-100** dataset.\n",
        "\n",
        "------------------------------------------------------------------------\n",
        "\n",
        "**Duplicates :** Duplicates in a dataset refer to instances that are either exactly the same or very similar to each other. They can arise due to various reasons during data collection and preprocessing. Duplicates can lead to overly optimistic evaluations of a machine learning model’s performance. This happens because the model might end up training on and testing against highly similar or identical instances, giving a false sense of its generalization capability.\n",
        "\n",
        "<figure>\n",
        "<img src=\"https://raw.githubusercontent.com/kyrillosishak/re-SkinCancer/main/assets/3kindOfDuplicates.png\" alt=\"duplicates\">\n",
        "</figure>\n",
        "\n",
        "This image from \\[2\\].\n",
        "\n",
        "*In the context of image data, the paper “Do we train on test data? Purging CIFAR of near-duplicates” \\[2\\] describes three types of duplication:*\n",
        "\n",
        "> -   **Exact Duplicate** Almost all pixels in the two images are approximately identical.\n",
        "> -   **Near-Duplicate** The content of the images is exactly the same, i.e., both originated from the same camera shot. However, different post-processing might have been applied to this original scene, e.g., color shifts, translations, scaling etc.\n",
        "> -   **Very Similar** The contents of the two images are different, but highly similar, so that the difference can only be spotted at the second glance.\n",
        "\n",
        "*In many situations, the distinction between `near-duplicate` and `very similar` isn’t crucial. **Near-duplicate** often serves as a more general term encompassing a wide range of image similarities. This category can include images derived from the same source with minor edits, but also extends to pictures of the same scene or object captured from different angles, cameras, or even screenshots.*\n",
        "\n",
        "------------------------------------------------------------------------\n",
        "\n",
        "**How Duplicate Samples Might End Up in Data?**"
      ],
      "id": "9d27bdfa-f2b3-447d-bbd5-7cb6f1b5fc01"
    },
    {
      "cell_type": "markdown",
      "metadata": {
        "id": "0bc8de32-fadf-4866-a65f-4ee77be02394"
      },
      "source": [
        "**1. Reasons specific to the data and how it was collected** :\n",
        "\n",
        "-   *Scenario 1* : When training an email classifier for an academic department. In this scenario, data is collected from all students within the department. Since these students are part of the same academic environment, they receive a significant number of common emails, such as departmental announcements, course notifications, and event reminders.\n",
        "\n",
        "-   *Scenario 2* : When training a chatbot for customer support, data is often gathered from various interactions with customers. Many customers might ask similar questions or encounter the same issues, resulting in repeated dialogue patterns within the dataset.\n",
        "\n",
        "-   *Scenario 3* : When training a model to classify news articles, data might be sourced from various news outlets. Major news stories are often covered by multiple sources, and syndicated articles or press releases can appear across different outlets, leading to duplicate samples.\n",
        "\n",
        "-   *Scenario 4* : Speech recognition datasets often include recordings of common phrases or sentences. If data is collected from multiple participants who are asked to repeat specific phrases, duplicates are inevitable.\n",
        "\n",
        "-   *Scenario 5* : Frankenstein datasets (A “Frankenstein dataset” refers to a dataset composed of multiple other public datasets. Some scientists intentionally create Frankenstein datasets to augment training data, as it enhances model robustness by exposing it to diverse examples from multiple sources. This approach aims to mitigate bias and improve generalization, especially when individual datasets may be limited in scope or quality. However, unintentionally, duplicates can arise within these datasets when one dataset includes information that duplicates or overlaps with data already included from another source.)\n",
        "\n",
        "    <img src=\"https://raw.githubusercontent.com/kyrillosishak/re-SkinCancer/main/assets/covidx.png\" />\n",
        "\n",
        "    *This image from survey \\[3\\].*\n",
        "\n",
        "    *For example, consider the COVIDx dataset, which incorporates three main datasets: COHEN, RSNA, and CHOWDHURY. CHOWDHURY itself includes the COHEN dataset, this overlap might cause duplicates within the Frankenstein dataset \\[3\\].*"
      ],
      "id": "0bc8de32-fadf-4866-a65f-4ee77be02394"
    },
    {
      "cell_type": "markdown",
      "metadata": {
        "id": "e5a557d1-648a-4384-aa71-de878c2e8d22"
      },
      "source": [
        "**2. Using LLM to generate data for training** :\n",
        "\n",
        "Duplicates can arise in datasets created using LLMs due to several factors. First, limited prompt variety can lead the model to generate similar or identical outputs, especially if the same prompt is used repeatedly. Additionally, the training data of the LLM may contain repetitive patterns, causing the model to reproduce these during generation. Randomness in the text generation process, particularly with low diversity settings, can also result in repetitive sequences. Furthermore, using in-domain unlabeled examples or few-shot examples that are not diverse enough may limit the variability of the generated samples. To mitigate duplicates, it is essential to employ strategies such as diverse prompt design, careful sampling, and post-generation deduplication techniques.\n",
        "\n",
        "*This example shows how using LLM for generating dataset for specific task (sentiment analysis in our case) can cause duplicates:*"
      ],
      "id": "e5a557d1-648a-4384-aa71-de878c2e8d22"
    },
    {
      "cell_type": "code",
      "execution_count": null,
      "metadata": {
        "id": "d1d73990-e798-4089-9415-163fa60d9fce"
      },
      "outputs": [],
      "source": [
        "!pip -q install git+https://github.com/huggingface/transformers # need to install from github\n",
        "!pip install -q datasets loralib sentencepiece\n",
        "!pip -q install bitsandbytes accelerate xformers einops"
      ],
      "id": "d1d73990-e798-4089-9415-163fa60d9fce"
    },
    {
      "cell_type": "code",
      "execution_count": null,
      "metadata": {
        "id": "1ed0080c-77d2-44d2-81ce-300e939ccdb2"
      },
      "outputs": [],
      "source": [
        "import torch\n",
        "import textwrap\n",
        "import transformers\n",
        "from transformers import AutoTokenizer, AutoModelForCausalLM\n",
        "def wrap_text(text, width=90): #preserve_newlines\n",
        "    # Split the input text into lines based on newline characters\n",
        "    lines = text.split('\\n')\n",
        "\n",
        "    # Wrap each line individually\n",
        "    wrapped_lines = [textwrap.fill(line, width=width) for line in lines]\n",
        "\n",
        "    # Join the wrapped lines back together using newline characters\n",
        "    wrapped_text = '\\n'.join(wrapped_lines)\n",
        "\n",
        "    return wrapped_text\n",
        "\n",
        "def generate(input_text, system_prompt=\"\",max_length=512):\n",
        "    prompt = f\"\"\"<s>[INST]{input_text}[/INST]\"\"\"\n",
        "    inputs = tokenizer(input_text, return_tensors=\"pt\", add_special_tokens=False)\n",
        "    outputs = model.generate(**inputs,\n",
        "                             eos_token_id = 2,\n",
        "                             max_new_tokens=max_length,\n",
        "                             pad_token_id=1,\n",
        "                             temperature=0.1,\n",
        "                             do_sample=True)\n",
        "    text = tokenizer.batch_decode(outputs)[0]\n",
        "    wrapped_text = wrap_text(text)\n",
        "    print(wrapped_text)\n",
        "    return wrapped_text"
      ],
      "id": "1ed0080c-77d2-44d2-81ce-300e939ccdb2"
    },
    {
      "cell_type": "code",
      "execution_count": null,
      "metadata": {
        "id": "c84ca05d-ae6c-4a43-b2d5-5b81d4a8ec4f"
      },
      "outputs": [],
      "source": [
        "torch.set_default_device('cuda')\n",
        "model = AutoModelForCausalLM.from_pretrained(\"unsloth/mistral-7b-instruct-v0.3-bnb-4bit\", device_map=\"auto\")\n",
        "tokenizer = AutoTokenizer.from_pretrained(\"unsloth/mistral-7b-instruct-v0.3-bnb-4bit\", torch_dtype=\"auto\")"
      ],
      "id": "c84ca05d-ae6c-4a43-b2d5-5b81d4a8ec4f"
    },
    {
      "cell_type": "code",
      "execution_count": null,
      "metadata": {
        "id": "d4befcd8-4376-45a9-9aa2-dd04408a3bfb"
      },
      "outputs": [],
      "source": [
        "generate('Generate a sentences expressing positive sentiment:', max_length=512)"
      ],
      "id": "d4befcd8-4376-45a9-9aa2-dd04408a3bfb"
    },
    {
      "cell_type": "markdown",
      "metadata": {
        "id": "0f2ec783-f66d-484a-b8f6-94c592754bc9"
      },
      "source": [
        "**3. Data augmentation or oversampling before split** :\n",
        "\n",
        "Data augmentation involves creating modified versions of existing data to increase the dataset size and diversity, while oversampling involves replicating data points to balance class distributions. If these techniques are applied before the dataset is split, the augmented or replicated samples can be distributed across the different splits. As a result, the same data point, or its augmented version, might appear in both the training and validation or test sets. This overlap can cause the model to have an unfair advantage, as it may encounter the same or very similar data during both training and evaluation phases. This can inflate performance metrics, giving a false sense of the model’s generalization capabilities.\n",
        "\n",
        "*In this example, we show how using augmentation before splitting can cause duplicate data leakage:*"
      ],
      "id": "0f2ec783-f66d-484a-b8f6-94c592754bc9"
    },
    {
      "cell_type": "code",
      "execution_count": null,
      "metadata": {
        "id": "55a8bd43-e82f-4cf0-961e-8a99ac024888"
      },
      "outputs": [],
      "source": [
        "import torch\n",
        "import torchvision\n",
        "import torchvision.transforms as transforms\n",
        "import numpy as np\n",
        "import matplotlib.pyplot as plt\n",
        "from PIL import Image\n",
        "import random\n",
        "\n",
        "# Set random seed for reproducibility\n",
        "seed = 42\n",
        "torch.manual_seed(seed)\n",
        "np.random.seed(seed)\n",
        "random.seed(seed)\n",
        "\n",
        "# Load CIFAR-10 dataset\n",
        "transform = transforms.Compose([\n",
        "    transforms.ToTensor(),\n",
        "])\n",
        "\n",
        "trainset = torchvision.datasets.CIFAR10(root='./data', train=True, download=True, transform=transform)\n",
        "trainloader = torch.utils.data.DataLoader(trainset, batch_size=20, shuffle=True, num_workers=2)\n",
        "\n",
        "# Sample 100 images\n",
        "dataiter = iter(trainloader)\n",
        "images, labels = next(dataiter)\n",
        "\n",
        "# Define augmentation\n",
        "augment = transforms.Compose([\n",
        "    transforms.RandomRotation(50),\n",
        "    transforms.RandomHorizontalFlip(),\n",
        "    transforms.ToTensor(),\n",
        "])\n",
        "\n",
        "# Convert to PIL images for augmentation\n",
        "images_pil = [transforms.ToPILImage()(img) for img in images]\n",
        "\n",
        "# Augment all of the images\n",
        "num_augment = len(images_pil)\n",
        "augmented_images = [(augment(img),idx) for idx, img in enumerate(images_pil[:num_augment])]\n",
        "normal_images =  [(transforms.ToTensor()(img),idx) for idx, img in enumerate(images_pil)]\n",
        "# Store indices with images\n",
        "augmented_images_with_indices =  augmented_images + normal_images\n",
        "train_images_with_indices, test_images_with_indices = train_test_split(augmented_images_with_indices, test_size=0.2, random_state=seed)\n",
        "\n",
        "# Find duplicates between train and test sets\n",
        "train_indices = set(idx for _, idx in train_images_with_indices)\n",
        "test_indices = set(idx for _, idx in test_images_with_indices)\n",
        "duplicates = train_indices.intersection(test_indices)\n",
        "\n",
        "print(f\"Duplicate indices between train and test sets: {duplicates}\")\n",
        "\n",
        "# Show duplicate images\n",
        "fig, axes = plt.subplots(len(duplicates), 2, figsize=(10, 5 * len(duplicates)))\n",
        "for i, idx in enumerate(duplicates):\n",
        "    train_img = next(img for img, id_ in train_images_with_indices if id_ == idx)\n",
        "    test_img = next(img for img, id_ in test_images_with_indices if id_ == idx)\n",
        "    axes[i, 0].imshow(np.transpose(train_img.numpy(), (1, 2, 0)))\n",
        "    axes[i, 0].set_title(f'Train Image Index: {idx}')\n",
        "    axes[i, 0].axis('off')\n",
        "    axes[i, 1].imshow(np.transpose(test_img.numpy(), (1, 2, 0)))\n",
        "    axes[i, 1].set_title(f'Test Image Index: {idx}')\n",
        "    axes[i, 1].axis('off')\n",
        "\n",
        "plt.show()\n"
      ],
      "id": "55a8bd43-e82f-4cf0-961e-8a99ac024888"
    },
    {
      "cell_type": "markdown",
      "metadata": {
        "id": "e986bd10-9871-4cdd-a7d8-2a6cfa2260f5"
      },
      "source": [
        "## **2. A toy example with synthetic data to illustrate duplicate data leakage**."
      ],
      "id": "e986bd10-9871-4cdd-a7d8-2a6cfa2260f5"
    },
    {
      "cell_type": "markdown",
      "metadata": {
        "id": "7f301891-3ca3-45c3-8965-0c0adb61d02d"
      },
      "source": [
        "### Example with accidental overlap between training and test set\n",
        "\n",
        "Illustration of the example: Here we demonstrate wrong data preprocessing that causes duplicate data leakage, which can bias the evaluation of our model."
      ],
      "id": "7f301891-3ca3-45c3-8965-0c0adb61d02d"
    },
    {
      "cell_type": "code",
      "execution_count": null,
      "metadata": {
        "id": "eacac9f3-3e42-4188-aa4b-4004e4f09a36"
      },
      "outputs": [],
      "source": [
        "# Importing necessary modules\n",
        "import numpy as np\n",
        "from sklearn.linear_model import LinearRegression\n",
        "from sklearn.metrics import mean_squared_error\n",
        "from sklearn.model_selection import train_test_split"
      ],
      "id": "eacac9f3-3e42-4188-aa4b-4004e4f09a36"
    },
    {
      "cell_type": "code",
      "execution_count": null,
      "metadata": {
        "id": "6bbdffe5-a505-4114-ae2b-a62395618fcc"
      },
      "outputs": [],
      "source": [
        "def generate_data(n_samples=100, n_features=1, noise_level=0.2):\n",
        "    \"\"\"\n",
        "    Generates synthetic data and casts it to the known distribution.\n",
        "    \"\"\"\n",
        "    # Generate random data\n",
        "    X = np.random.rand(n_samples, n_features)\n",
        "    # Known coefficients\n",
        "    coef = np.random.randn(n_features)\n",
        "    # Generate target variable\n",
        "    y = X @ coef + np.random.randn(n_samples) * noise_level\n",
        "    return X, y, coef"
      ],
      "id": "6bbdffe5-a505-4114-ae2b-a62395618fcc"
    },
    {
      "cell_type": "code",
      "execution_count": null,
      "metadata": {
        "id": "61435cd1-49f3-4ffa-b228-955f0d9b7360"
      },
      "outputs": [],
      "source": [
        "# Generate data with noise\n",
        "n_samples_initial = 100\n",
        "n_samples_total = 150\n",
        "noise_level = 0.3  # Change this value to experiment with different noise levels\n",
        "np.random.seed(42)\n",
        "\n",
        "# Generate initial data\n",
        "X, y, coef = generate_data(n_samples=n_samples_initial, noise_level=noise_level)\n",
        "\n",
        "# Sample with replacement\n",
        "indices = np.random.choice(np.arange(len(X)), size=n_samples_total, replace=True)\n",
        "X_sampled, y_sampled, indices = X[indices], y[indices], indices\n",
        "num_duplicates = len(indices) - len(np.unique(indices))\n",
        "\n",
        "# Add noise to features\n",
        "X_noisy = X_sampled + np.random.randn(*X_sampled.shape) * noise_level\n",
        "\n",
        "# Split into training and test sets according to the indices\n",
        "# Use 80% for training and 20% for testing\n",
        "train_size = int(0.8 * n_samples)\n",
        "train_indices = indices[:train_size]\n",
        "test_indices = indices[train_size:]\n",
        "\n",
        "X_train, y_train = X_noisy[:train_size], y_sampled[:train_size]\n",
        "X_test, y_test = X_noisy[train_size:], y_sampled[train_size:]\n",
        "\n",
        "# Calculate number of duplicates in test set that are also in train set\n",
        "duplicates_in_test = len(set(train_indices) & set(test_indices))\n",
        "\n",
        "# Train model\n",
        "model = LinearRegression().fit(X_train, y_train)\n",
        "\n",
        "# Evaluate on \"bad\" test set\n",
        "y_pred = model.predict(X_test)\n",
        "mse_bad_test = mean_squared_error(y_test, y_pred)\n",
        "\n",
        "# Generate a new \"clean\" test set (for comparison)\n",
        "X_clean_test, y_clean_test, _ = generate_data(n_samples=len(y_test), noise_level=noise_level)\n",
        "\n",
        "# Evaluate on the \"clean\" test set\n",
        "y_pred_clean = model.predict(X_clean_test)\n",
        "mse_clean_test = mean_squared_error(y_clean_test, y_pred_clean)\n",
        "\n",
        "# Print results\n",
        "print(f\"Number of duplicates in sampled data: {num_duplicates}\")\n",
        "print(f\"Number of duplicates in test set that are also in train set: {duplicates_in_test}\")\n",
        "print(f\"MSE on 'bad' test set: {mse_bad_test}\")\n",
        "print(f\"MSE on 'clean' test set: {mse_clean_test}\")"
      ],
      "id": "61435cd1-49f3-4ffa-b228-955f0d9b7360"
    },
    {
      "cell_type": "markdown",
      "metadata": {
        "id": "ee73b043-52e3-41e8-bfdc-430d47a58705"
      },
      "source": [
        "#### 🤔 Why MSE on `bad` test set is lower than MSE on `clean` test set?"
      ],
      "id": "ee73b043-52e3-41e8-bfdc-430d47a58705"
    },
    {
      "cell_type": "markdown",
      "metadata": {
        "id": "62616c7b-57ff-457c-a6c5-414657ba1103"
      },
      "source": [
        "Because the ‘bad’ test set has data leakage which can cause overly optimistic results.\n",
        "\n",
        "*Note : sometimes the MSE on `bad` test data perform worse (higher MSE) than `clean` test data that can be as both the noisy and clean datasets are generated with some randomness, leading to variability in the MSE. Even though the clean set doesn’t have duplicates, the particular noise added could make it slightly easier or harder to predict accurately compared to the noisy dataset.*"
      ],
      "id": "62616c7b-57ff-457c-a6c5-414657ba1103"
    },
    {
      "cell_type": "markdown",
      "metadata": {
        "id": "a005c156-8d12-45f4-8a5a-57a0299aad92"
      },
      "source": [
        "### Example with incorrect oversampling"
      ],
      "id": "a005c156-8d12-45f4-8a5a-57a0299aad92"
    },
    {
      "cell_type": "markdown",
      "metadata": {
        "id": "d6ce35b1-5ad6-4056-b330-41c6a51d83e8"
      },
      "source": [
        "**Example :**"
      ],
      "id": "d6ce35b1-5ad6-4056-b330-41c6a51d83e8"
    },
    {
      "cell_type": "code",
      "execution_count": null,
      "metadata": {
        "id": "a4b7bd08-8a21-4ecd-9b0d-3029c927b617"
      },
      "outputs": [],
      "source": [
        "import numpy as np\n",
        "import pandas as pd\n",
        "from sklearn.datasets import make_classification\n",
        "from sklearn.model_selection import train_test_split\n",
        "from sklearn.ensemble import RandomForestClassifier\n",
        "from sklearn.metrics import accuracy_score\n",
        "from imblearn.over_sampling import SMOTE\n",
        "\n",
        "# Generate synthetic data\n",
        "X, y = make_classification(n_samples=1000, n_features=20, n_classes=2, weights=[0.9, 0.1], random_state=42)\n",
        "\n",
        "# Add noise to the data\n",
        "noise = np.random.normal(0, 1, X.shape)\n",
        "X_noisy = X + noise\n",
        "\n",
        "# Convert to DataFrame for better visualization (optional)\n",
        "df = pd.DataFrame(X_noisy)\n",
        "df['target'] = y"
      ],
      "id": "a4b7bd08-8a21-4ecd-9b0d-3029c927b617"
    },
    {
      "cell_type": "code",
      "execution_count": null,
      "metadata": {
        "id": "659ecefb-36de-4349-89d8-946dcf1b36b3"
      },
      "outputs": [],
      "source": [
        "# Incorrect implementation with data leakage\n",
        "X_new, y_new = SMOTE().fit_resample(X_noisy, y)\n",
        "X_train, X_test, y_train, y_test = train_test_split(X_new, y_new, test_size=0.2, random_state=42)\n",
        "\n",
        "rf_incorrect = RandomForestClassifier(random_state=42).fit(X_train, y_train)\n",
        "predictions_incorrect = rf_incorrect.predict(X_test)\n",
        "\n",
        "accuracy_incorrect = accuracy_score(y_test, predictions_incorrect)\n",
        "print(f\"Incorrect Implementation Accuracy: {accuracy_incorrect:.4f}\")"
      ],
      "id": "659ecefb-36de-4349-89d8-946dcf1b36b3"
    },
    {
      "cell_type": "markdown",
      "metadata": {
        "id": "a730c816-b887-4df2-8ea2-3bb52f80ca26"
      },
      "source": [
        "##### 🤔 Think why this is a bad implementation?"
      ],
      "id": "a730c816-b887-4df2-8ea2-3bb52f80ca26"
    },
    {
      "cell_type": "markdown",
      "metadata": {
        "id": "251db9e9-b8b2-483a-8109-c959a25cac99"
      },
      "source": [
        "Oversampling with SMOTE is performed **before** the train/test split. This creates a problem because the synthetic data generated by SMOTE are based on the original dataset’s samples. When you split the data afterward, there is a high chance that the synthetic data in the training set will have very similar counterparts (or even the same ones) in the test set. This causes data leakage, where information from the training set influences the test set, leading to overly optimistic performance estimates."
      ],
      "id": "251db9e9-b8b2-483a-8109-c959a25cac99"
    },
    {
      "cell_type": "markdown",
      "metadata": {
        "id": "5cc888c2-b662-46fb-b481-1cf2c57eb0f8"
      },
      "source": [
        "#### 💡 Solution :"
      ],
      "id": "5cc888c2-b662-46fb-b481-1cf2c57eb0f8"
    },
    {
      "cell_type": "markdown",
      "metadata": {
        "id": "23334ebe-857f-4683-8893-a8bdceee0462"
      },
      "source": [
        "To avoid this issue, you should perform the train/test split before applying SMOTE. This ensures that the synthetic data generation only affects the training set, keeping the test set independent and truly representative of unseen data.\n",
        "\n",
        "We can edit the code to :"
      ],
      "id": "23334ebe-857f-4683-8893-a8bdceee0462"
    },
    {
      "cell_type": "code",
      "execution_count": null,
      "metadata": {
        "id": "5c3ea222-f998-42ba-8034-b645f31a86ad"
      },
      "outputs": [],
      "source": [
        "# Correct implementation without data leakage\n",
        "X_train, X_test, y_train, y_test = train_test_split(X_noisy, y, test_size=0.2, random_state=42)\n",
        "X_train_resampled, y_train_resampled = SMOTE().fit_resample(X_train, y_train)\n",
        "\n",
        "rf_correct = RandomForestClassifier(random_state=42).fit(X_train_resampled, y_train_resampled)\n",
        "predictions_correct = rf_correct.predict(X_test)\n",
        "\n",
        "accuracy_correct = accuracy_score(y_test, predictions_correct)\n",
        "print(f\"Correct Implementation Accuracy: {accuracy_correct:.4f}\")"
      ],
      "id": "5c3ea222-f998-42ba-8034-b645f31a86ad"
    },
    {
      "cell_type": "markdown",
      "metadata": {
        "id": "93aa15fd-ce9d-4acb-ac0b-2486f8336506"
      },
      "source": [
        "### Exercise"
      ],
      "id": "93aa15fd-ce9d-4acb-ac0b-2486f8336506"
    },
    {
      "cell_type": "markdown",
      "metadata": {
        "id": "f6112b06-5225-4625-a196-690ddc3c3915"
      },
      "source": [
        "Identify the data leakage that caused by duplicates\n",
        "\n",
        "``` python\n",
        "import pandas as pd\n",
        "from sklearn . feature_selection import SelectPercentile, chi2\n",
        "from sklearn . model_selection import LinearRegression ,Ridge\n",
        "\n",
        "X_0 , y = load_data ()\n",
        "\n",
        "select = SelectPercentile( chi2 , percentile =50)\n",
        "select.fit(X_0)\n",
        "X = select.transform( X_0 )\n",
        "\n",
        "X_train , y_train , X_test , y_test = train_test_split (X ,y)\n",
        "lr = LinearRegression ()\n",
        "lr.fit ( X_train , y_train )\n",
        "lr_score = lr.score ( X_test , y_test )\n",
        "\n",
        "ridge = Ridge ()\n",
        "ridge.fit (X , y)\n",
        "ridge_score = ridge.score (X_test , y_test)\n",
        "final_model = lr if lr_score > ridge_score else ridge\n",
        "```"
      ],
      "id": "f6112b06-5225-4625-a196-690ddc3c3915"
    },
    {
      "cell_type": "markdown",
      "metadata": {
        "id": "326cde1e-466a-474f-a44c-665089ccd723"
      },
      "source": [
        "### Exercise\n",
        "\n",
        "Correct the data leakage that caused by duplicates"
      ],
      "id": "326cde1e-466a-474f-a44c-665089ccd723"
    },
    {
      "cell_type": "code",
      "execution_count": null,
      "metadata": {
        "id": "b60cc160-02b6-47d0-9aac-be3dff95bddf"
      },
      "outputs": [],
      "source": [
        "import pandas as pd\n",
        "from sklearn . feature_selection import SelectPercentile, chi2\n",
        "from sklearn . model_selection import LinearRegression ,Ridge\n",
        "\n",
        "X_0 , y = load_data ()\n",
        "\n",
        "## Write your code here ##\n",
        "\n",
        "# Use the same approach as above\n",
        "\n",
        "#########################\n",
        "lr = LinearRegression ()\n",
        "lr.fit ( X_train , y_train )\n",
        "lr_score = lr.score ( X_test , y_test )\n",
        "\n",
        "ridge = Ridge ()\n",
        "ridge.fit (X , y)\n",
        "ridge_score = ridge.score (X_test , y_test)\n",
        "final_model = lr if lr_score > ridge_score else ridge"
      ],
      "id": "b60cc160-02b6-47d0-9aac-be3dff95bddf"
    },
    {
      "cell_type": "markdown",
      "metadata": {
        "id": "60633b25-3200-42af-a960-eebbe0ba1770"
      },
      "source": [
        "## **3. A real-world example using the CIFAR-100 dataset**"
      ],
      "id": "60633b25-3200-42af-a960-eebbe0ba1770"
    },
    {
      "cell_type": "markdown",
      "metadata": {
        "id": "934069d1-834c-4887-919d-2420c6dfa5a4"
      },
      "source": [
        "The CIFAR-100 dataset consists of 60,000 32x32 color images in 100 classes, with 600 images per class. There are 50,000 training images and 10,000 test images. It has been discovered \\[2\\] that CIFAR-100 dataset has 3 kinds of duplicates We will use CIFAR-100 to demonstrate how duplicates in the dataset can lead to data leakage and affect model performance.\n",
        "\n",
        "*We will use PyTorch for this tutorial. Not familiar with PyTorch [check](https://www.tutorialspoint.com/pytorch/index.htm)*\n",
        "\n",
        "------------------------------------------------------------------------"
      ],
      "id": "934069d1-834c-4887-919d-2420c6dfa5a4"
    },
    {
      "cell_type": "markdown",
      "metadata": {
        "id": "e9229018-4e80-47ed-9126-5e3e0e747fa7"
      },
      "source": [
        "We will start by importing the required modules"
      ],
      "id": "e9229018-4e80-47ed-9126-5e3e0e747fa7"
    },
    {
      "cell_type": "code",
      "execution_count": null,
      "metadata": {
        "id": "1e80bfac-3aef-4441-a327-f4d33acd1b98"
      },
      "outputs": [],
      "source": [
        "import torch\n",
        "import torchvision\n",
        "import torchvision.transforms as transforms\n",
        "from torchvision.datasets import CIFAR100\n",
        "import torch.nn as nn\n",
        "import torch.optim as optim\n",
        "import torch.nn.functional as F\n",
        "from torch.utils.data import DataLoader\n",
        "import pandas as pd\n",
        "import numpy as np\n",
        "import matplotlib.pyplot as plt\n",
        "import random\n",
        "from tqdm import tqdm\n",
        "from torchvision.models import resnet18\n",
        "import warnings\n",
        "warnings.filterwarnings(\"ignore\")"
      ],
      "id": "1e80bfac-3aef-4441-a327-f4d33acd1b98"
    },
    {
      "cell_type": "markdown",
      "metadata": {
        "id": "7d72d7a3-c5af-4dce-a013-6436dbf26933"
      },
      "source": [
        "Then we will download the original `CIFAR-100` dataset from `torchvision.datasets` and download the `ciFAIR` dataset from the official github repo."
      ],
      "id": "7d72d7a3-c5af-4dce-a013-6436dbf26933"
    },
    {
      "cell_type": "code",
      "execution_count": null,
      "metadata": {
        "id": "d311c914-cb8b-48c2-bc84-29e74ba27d43"
      },
      "outputs": [],
      "source": [
        "# We will create a class for the ciFAIR dataset\n",
        "class ciFAIR100(torchvision.datasets.CIFAR100):\n",
        "    base_folder = 'ciFAIR-100'\n",
        "    url = 'https://github.com/cvjena/cifair/releases/download/v1.0/ciFAIR-100.zip'\n",
        "    filename = 'ciFAIR-100.zip'\n",
        "    tgz_md5 = 'ddc236ab4b12eeb8b20b952614861a33'\n",
        "    test_list = [\n",
        "        ['test', '8130dae8d6fc6a436437f0ebdb801df1'],\n",
        "    ]\n",
        "\n",
        "# Data augmentation and normalization for training\n",
        "transform_train = transforms.Compose([\n",
        "    transforms.RandomCrop(32, padding=4),\n",
        "    transforms.RandomHorizontalFlip(),\n",
        "    transforms.ToTensor(),\n",
        "    transforms.Normalize((0.5074, 0.4867, 0.4411), (0.2011, 0.1987, 0.2025)),\n",
        "])\n",
        "\n",
        "# Normalize the test set same as training set without augmentation\n",
        "transform_test = transforms.Compose([\n",
        "    transforms.ToTensor(),\n",
        "    transforms.Normalize((0.5074, 0.4867, 0.4411), (0.2011, 0.1987, 0.2025)),\n",
        "])\n",
        "\n",
        "\n",
        "# # Downloading CIFAR-100 dataset to the 'data' directory and loading it\n",
        "train_data = CIFAR100(download=True, root=\"./data\", transform=transform_train)\n",
        "test_data = CIFAR100(root=\"./data\", train=False, transform=transform_test)\n",
        "\n",
        "# # Downloading ciFAIR-100 dataset to the 'data_fixed' directory and loading it\n",
        "train_data_fixed = ciFAIR100(download=True, root=\"./data_fixed\", transform=transform_train)\n",
        "test_data_fixed = ciFAIR100(root=\"./data_fixed\", train=False, transform=transform_test)"
      ],
      "id": "d311c914-cb8b-48c2-bc84-29e74ba27d43"
    },
    {
      "cell_type": "markdown",
      "metadata": {
        "id": "714f9401-20c3-4de8-ac98-232ddb434156"
      },
      "source": [
        "Exploring the duplicate images"
      ],
      "id": "714f9401-20c3-4de8-ac98-232ddb434156"
    },
    {
      "cell_type": "code",
      "execution_count": null,
      "metadata": {
        "id": "0c58362f-ad6b-40e3-a8a9-1215d1b3acee"
      },
      "outputs": [],
      "source": [
        "# Downloading duplicate image information from the ciFAIR repository\n",
        "!wget https://github.com/cvjena/cifair/raw/master/meta/duplicates_cifar100.csv\n",
        "!wget https://github.com/cvjena/cifair/raw/master/meta/duplicates_cifar100_test.csv\n",
        "\n",
        "# Reading the CSV file containing duplicate information for train/test splits and test split\n",
        "train_test_duplicates = pd.read_csv('duplicates_cifar100.csv')\n",
        "# Reading the CSV file containing duplicate information for test splits itself (test split have duplicates)\n",
        "test_duplicates = pd.read_csv('duplicates_cifar100_test.csv')"
      ],
      "id": "0c58362f-ad6b-40e3-a8a9-1215d1b3acee"
    },
    {
      "cell_type": "code",
      "execution_count": null,
      "metadata": {
        "id": "16cc468c-5370-45c6-8e79-2a55d2dfb605"
      },
      "outputs": [],
      "source": [
        "# Number of duplicates in each class :\n",
        "label = {\n",
        "    0: 'Real-duplicates',\n",
        "    1: 'Near-duplicates',\n",
        "    2: 'very similar'\n",
        "}\n",
        "print(\"duplicates in train/test splits\\n\")\n",
        "labels, counts = np.unique(train_test_duplicates['Judgment'], return_counts=True)\n",
        "for l, count in zip(labels, counts):\n",
        "    print(f\"Label: {label[l]}, Count: {count}\")\n",
        "\n",
        "print(\"\\nduplicates in test split\\n\")\n",
        "labels, counts = np.unique(test_duplicates['Judgment'], return_counts=True)\n",
        "for l, count in zip(labels, counts):\n",
        "    print(f\"Label: {label[l]}, Count: {count}\")"
      ],
      "id": "16cc468c-5370-45c6-8e79-2a55d2dfb605"
    },
    {
      "cell_type": "code",
      "execution_count": null,
      "metadata": {
        "id": "a5547a5b-3898-48c9-a899-dffbffb9d6eb"
      },
      "outputs": [],
      "source": [
        "# Data\n",
        "categories = ['Dup.', 'Near-Dup.', 'Similar']\n",
        "datasets = ['CIFAR-100', 'CIFAR-100', 'CIFAR-100']\n",
        "training_counts = [39, 582, 270]\n",
        "test_counts = [2, 72, 30]\n",
        "\n",
        "# Positions of the bars\n",
        "bar_width = 0.5\n",
        "r1 = np.arange(len(categories))\n",
        "\n",
        "# Create the figure and increase the figure size\n",
        "plt.figure(figsize=(12, 7))\n",
        "\n",
        "# Create the bars\n",
        "plt.bar(r1, training_counts, color='#1f77b4', width=bar_width, label='duplicates in trainset appeared in testset')\n",
        "plt.bar(r1, test_counts, color='#ff7f0e', bottom=training_counts, width=bar_width, label='duplicates in testset itself')\n",
        "\n",
        "# Adding the text labels and titles\n",
        "plt.xlabel('')\n",
        "plt.ylabel('')\n",
        "plt.xticks(r1, categories)\n",
        "plt.legend()\n",
        "\n",
        "# Add custom x-axis labels\n",
        "positions = [(r1[0] + r1[2]) / 2]\n",
        "dataset_labels = ['CIFAR-100']\n",
        "for pos, label in zip(positions, dataset_labels):\n",
        "    plt.text(pos, -50, label, ha='center')\n",
        "\n",
        "plt.grid(axis='y')\n",
        "\n",
        "# Setting x-ticks positions and labels\n",
        "plt.xticks(r1, categories, rotation=0)\n",
        "\n",
        "# Show the plot\n",
        "plt.show()"
      ],
      "id": "a5547a5b-3898-48c9-a899-dffbffb9d6eb"
    },
    {
      "cell_type": "code",
      "execution_count": null,
      "metadata": {
        "id": "815a109c-e10e-4dc2-8006-f7f369f4b12e"
      },
      "outputs": [],
      "source": [
        "# run train_test_duplicates and see the similarity between each pair that classified as duplicates"
      ],
      "id": "815a109c-e10e-4dc2-8006-f7f369f4b12e"
    },
    {
      "cell_type": "code",
      "execution_count": null,
      "metadata": {
        "id": "6fe94ee1-e6b5-4db9-bbe8-59faef9b55aa"
      },
      "outputs": [],
      "source": [
        "# Choosing random samples from the duplicates for visualization\n",
        "l = random.sample(range(0, 890), 5)\n",
        "\n",
        "# plotting the images\n",
        "for x in l:\n",
        "  if train_test_duplicates['Judgment'][x] == 0:\n",
        "    fig, axes = plt.subplots(1, 2)\n",
        "    axes[0].imshow(test_data.data[train_test_duplicates['TestID'][x]])\n",
        "    axes[1].imshow(train_data.data[train_test_duplicates['TrainID'][x]])\n",
        "    fig.suptitle('Real Duplicates')\n",
        "    plt.show()\n",
        "  elif train_test_duplicates['Judgment'][x] == 1:\n",
        "    fig, axes = plt.subplots(1, 2)\n",
        "    axes[0].imshow(test_data.data[train_test_duplicates['TestID'][x]])\n",
        "    axes[1].imshow(train_data.data[train_test_duplicates['TrainID'][x]])\n",
        "    fig.suptitle('Near Duplicate')\n",
        "    plt.show()\n",
        "  elif train_test_duplicates['Judgment'][x] == 2:\n",
        "    fig, axes = plt.subplots(1, 2)\n",
        "    axes[0].imshow(test_data.data[train_test_duplicates['TestID'][x]])\n",
        "    axes[1].imshow(train_data.data[train_test_duplicates['TrainID'][x]])\n",
        "    fig.suptitle('Very similar')\n",
        "    plt.show()"
      ],
      "id": "6fe94ee1-e6b5-4db9-bbe8-59faef9b55aa"
    },
    {
      "cell_type": "code",
      "execution_count": null,
      "metadata": {
        "id": "f67cea7b-0dc7-4059-96e4-981a8858bed5"
      },
      "outputs": [],
      "source": [
        "# Choosing random samples from the duplicates for visualization\n",
        "l = random.sample(range(0, 103), 5)\n",
        "\n",
        "# plotting the images\n",
        "for x in l:\n",
        "  if test_duplicates['Judgment'][x] == 0:\n",
        "    fig, axes = plt.subplots(1, 2)\n",
        "    axes[0].imshow(test_data.data[test_duplicates['TestID'][x]])\n",
        "    axes[1].imshow(test_data.data[test_duplicates['TrainID'][x]])\n",
        "    fig.suptitle('Real Duplicates')\n",
        "    plt.show()\n",
        "  elif test_duplicates['Judgment'][x] == 1:\n",
        "    fig, axes = plt.subplots(1, 2)\n",
        "    axes[0].imshow(test_data.data[test_duplicates['TestID'][x]])\n",
        "    axes[1].imshow(test_data.data[test_duplicates['TrainID'][x]])\n",
        "    fig.suptitle('Near Duplicate')\n",
        "    plt.show()\n",
        "  elif test_duplicates['Judgment'][x] == 2:\n",
        "    fig, axes = plt.subplots(1, 2)\n",
        "    axes[0].imshow(test_data.data[test_duplicates['TestID'][x]])\n",
        "    axes[1].imshow(test_data.data[test_duplicates['TrainID'][x]])\n",
        "    fig.suptitle('Very similar')\n",
        "    plt.show()"
      ],
      "id": "f67cea7b-0dc7-4059-96e4-981a8858bed5"
    },
    {
      "cell_type": "markdown",
      "metadata": {
        "id": "278a045b-75c1-4d4b-90dc-08afb7a3241b"
      },
      "source": [
        "Then we will start to train a ResNet CNN model using pyTorch on the original CIFAR dataset and assess its performance on the test split of the original dataset and the ciFAIR dataset test splits\n",
        "\n",
        "Note : both CIFAR-100 and ciFAIR **have the same** train data split the only difference is in the test set"
      ],
      "id": "278a045b-75c1-4d4b-90dc-08afb7a3241b"
    },
    {
      "cell_type": "markdown",
      "metadata": {
        "id": "073c59c2-2dfd-4633-8cc3-5d9d96a8274c"
      },
      "source": [
        "Currently will use this hyperparameters"
      ],
      "id": "073c59c2-2dfd-4633-8cc3-5d9d96a8274c"
    },
    {
      "cell_type": "code",
      "execution_count": null,
      "metadata": {
        "id": "3b615120-e07f-473e-9c0a-18ff024b85a7"
      },
      "outputs": [],
      "source": [
        "# Hyperparameters\n",
        "batch_size = 128\n",
        "num_epochs = 50\n",
        "learning_rate = 0.01\n",
        "momentum = 0.9\n",
        "weight_decay = 5e-4"
      ],
      "id": "3b615120-e07f-473e-9c0a-18ff024b85a7"
    },
    {
      "cell_type": "markdown",
      "metadata": {
        "id": "f6ce9d6d-e0bf-4004-a0ff-34b4a95e5c1f"
      },
      "source": [
        "First we will use ResNet model without any pre-training"
      ],
      "id": "f6ce9d6d-e0bf-4004-a0ff-34b4a95e5c1f"
    },
    {
      "cell_type": "code",
      "execution_count": null,
      "metadata": {
        "id": "dbb17edd-fac1-41f8-8724-fc5c2174dd25"
      },
      "outputs": [],
      "source": [
        "# Check if CUDA is available\n",
        "device = torch.device(\"cuda\" if torch.cuda.is_available() else \"cpu\")\n",
        "\n",
        "# Load ResNet model and modify the final layer for CIFAR-100\n",
        "model = resnet18(pretrained=False)\n",
        "model.fc = nn.Linear(512, 100)  # CIFAR-100 has 100 classes\n",
        "model = model.to(device)\n",
        "\n",
        "# Loss function and optimizer\n",
        "criterion = nn.CrossEntropyLoss()\n",
        "optimizer = optim.SGD(model.parameters(), lr=learning_rate, momentum=momentum, weight_decay=weight_decay)\n",
        "# This helps in fine-tuning the learning rate as training progresses, often leading to better performance.\n",
        "scheduler = optim.lr_scheduler.StepLR(optimizer, step_size=30, gamma=0.1)"
      ],
      "id": "dbb17edd-fac1-41f8-8724-fc5c2174dd25"
    },
    {
      "cell_type": "markdown",
      "metadata": {
        "id": "c6163e16-6072-4c06-8d80-7836bc0128dd"
      },
      "source": [
        "Then we will define the train/test functions"
      ],
      "id": "c6163e16-6072-4c06-8d80-7836bc0128dd"
    },
    {
      "cell_type": "code",
      "execution_count": null,
      "metadata": {
        "id": "f1cfd130-1733-46c0-844b-48cfff0ffb1f"
      },
      "outputs": [],
      "source": [
        "\n",
        "# Training function\n",
        "def train(epoch, trainloader):\n",
        "    # Sets the model to training mode. IMP for layers (dropout and batchnorm) that behave differently in train/eval mode.\n",
        "    model.train()\n",
        "    running_loss = 0.0\n",
        "    for i, (inputs, labels) in enumerate(trainloader, 0):\n",
        "        # Move the input data and labels to the specified device (CPU or GPU).\n",
        "        inputs, labels = inputs.to(device), labels.to(device)\n",
        "\n",
        "        optimizer.zero_grad()\n",
        "\n",
        "        outputs = model(inputs)\n",
        "        loss = criterion(outputs, labels)\n",
        "        loss.backward()\n",
        "        optimizer.step()\n",
        "\n",
        "        running_loss += loss.item()\n",
        "        if i % 100 == 99:    # print every 100 mini-batches\n",
        "            print(f'[Epoch {epoch + 1}, Batch {i + 1}] loss: {running_loss / 100:.3f}')\n",
        "            running_loss = 0.0\n",
        "\n",
        "# Testing function\n",
        "def test(testloader):\n",
        "    model.eval()\n",
        "    correct = 0\n",
        "    total = 0\n",
        "    with torch.no_grad():\n",
        "        for inputs, labels in testloader:\n",
        "            inputs, labels = inputs.to(device), labels.to(device)\n",
        "            outputs = model(inputs)\n",
        "            _, predicted = torch.max(outputs.data, 1)\n",
        "            total += labels.size(0)\n",
        "            correct += (predicted == labels).sum().item()\n",
        "\n",
        "    print(f'Accuracy of the network on the 10000 test images: {100 * correct / total:.2f}%')"
      ],
      "id": "f1cfd130-1733-46c0-844b-48cfff0ffb1f"
    },
    {
      "cell_type": "markdown",
      "metadata": {
        "id": "66288eb0-1877-4024-95b4-b448954ec271"
      },
      "source": [
        "Load `PyTorch` data loader"
      ],
      "id": "66288eb0-1877-4024-95b4-b448954ec271"
    },
    {
      "cell_type": "code",
      "execution_count": null,
      "metadata": {
        "id": "d3a0689a-03ae-421e-bc48-29d699b6c6a9"
      },
      "outputs": [],
      "source": [
        "trainloader = DataLoader(train_data, batch_size=batch_size, shuffle=True, num_workers=2)\n",
        "testloader = DataLoader(test_data, batch_size=batch_size, shuffle=False, num_workers=2)\n",
        "\n",
        "testloader_fixed = DataLoader(test_data_fixed, batch_size=batch_size, shuffle=False, num_workers=2)"
      ],
      "id": "d3a0689a-03ae-421e-bc48-29d699b6c6a9"
    },
    {
      "cell_type": "code",
      "execution_count": null,
      "metadata": {
        "id": "19403f30-7f66-4e36-9729-87e892f2f1ec"
      },
      "outputs": [],
      "source": [
        "# Training loop\n",
        "for epoch in range(num_epochs):\n",
        "    train(epoch,trainloader)\n",
        "    scheduler.step()\n",
        "print('Finished Training')\n",
        "# Testing\n",
        "print('Testing with original CIFAR testset')\n",
        "test(testloader)\n",
        "print('Testing with ciFAIR testset')\n",
        "test(testloader_fixed)"
      ],
      "id": "19403f30-7f66-4e36-9729-87e892f2f1ec"
    },
    {
      "cell_type": "markdown",
      "metadata": {
        "id": "5ed70018-9bc4-45e2-9602-d10be2c0f0c0"
      },
      "source": [
        "#### ❔ Why do you think the test set of the original split performs better than the test set of the ciFAIR dataset?"
      ],
      "id": "5ed70018-9bc4-45e2-9602-d10be2c0f0c0"
    },
    {
      "cell_type": "markdown",
      "metadata": {
        "id": "30100ec8-2e61-4f47-852e-95102fbf6dee"
      },
      "source": [
        "The model was trained on images in the original test set, so it performs very well on images it has seen before. However, it performs poorly on the ciFAIR test set, which contains images it has not seen before."
      ],
      "id": "30100ec8-2e61-4f47-852e-95102fbf6dee"
    },
    {
      "cell_type": "markdown",
      "metadata": {
        "id": "c8f90e0b-a408-4dea-8310-7b52fc2000da"
      },
      "source": [
        "## **4. How to measure duplicates?**\n",
        "\n",
        "In this section, we will discuss how to find duplicates in a dataset based on the following types:\n",
        "\n",
        "1.  Images\n",
        "2.  Texts\n",
        "3.  General data\n",
        "\n",
        "------------------------------------------------------------------------\n",
        "\n",
        "### **1. How to mitigate duplicates in Images:**\n",
        "\n",
        "*Finding duplicate images can be challenging due to variations in size, format, and slight alterations. Here are some common methods:*\n",
        "\n",
        "-   **Hashing** : Compute hash values for images and compare them. Techniques like MD5, SHA-1. This techniques can’t detect Near-duplicate it can detect Exact-duplicates only. *Example :*\n",
        "\n",
        "    ``` python\n",
        "    import hashlib\n",
        "    def calculate_sha256_hash(image_path):\n",
        "        with open(image_path, \"rb\") as f:\n",
        "            image_data = f.read()\n",
        "            return hashlib.sha256(image_data).hexdigest()\n",
        "    ```\n",
        "\n",
        "    <table>\n",
        "    <tr>\n",
        "    <td>\n",
        "\n",
        "    <img src=\"https://raw.githubusercontent.com/kyrillosishak/re-SkinCancer/main/assets/dog.jpg\" width=\"400\" height=\"400\"/>\n",
        "\n",
        "    </td>\n",
        "    <td>\n",
        "\n",
        "    <img src=\"https://raw.githubusercontent.com/kyrillosishak/re-SkinCancer/main/assets/dog_cropped.jpg\" width=\"400\" height=\"400\" />\n",
        "\n",
        "    </td>\n",
        "    </tr>\n",
        "    <tr>\n",
        "    <td>\n",
        "\n",
        "    Hash : 795d4344cdc8fa578b86d30622a8d935e237bcff406c4e5a1d6d17b568c73bfa\n",
        "\n",
        "    </td>\n",
        "    <td>\n",
        "\n",
        "    Hash : 553f7d8da6736af2cc237f9abad4c1f35b2d26705e1b87527f04c62c48f018f4\n",
        "\n",
        "    </td>\n",
        "    </tr>\n",
        "    </table>\n",
        "\n",
        "    *As we can see hash cannot detect if the image is augmented (cropped in our case) but can detect exact duplicates.*\n",
        "\n",
        "-   **Pixel-by-pixel cosine similarity** : It is a method used to detect duplicate or near-duplicate images by comparing the pixel values of two images. This technique measures the cosine of the angle between two vectors, which in this context are the pixel value arrays of the images. A threshold value can be set to determine if the images are considered duplicates. For example, a threshold of 0.95 might be used to account for minor variations while still recognizing duplicates.\n",
        "\n",
        "    ``` python\n",
        "      def cosine_similarity(vec1, vec2):\n",
        "          dot_product = np.dot(vec1, vec2)\n",
        "          magnitude = np.linalg.norm(vec1) * np.linalg.norm(vec2)\n",
        "          if not magnitude:\n",
        "              return 0\n",
        "          return dot_product / magnitude\n",
        "\n",
        "      similarity = cosine_similarity(img1.flatten(), img2.flatten())\n",
        "    ```\n",
        "\n",
        "-   **Similarities of image embeddings** : Using image embeddings to detect duplicates involves leveraging deep learning models to extract high-level features from images, converting them into dense vectors (embeddings). First, a pre-trained convolutional neural network (CNN) such as VGG, ResNet, or Inception is used to generate embeddings for each image. These models, trained on large datasets. Next, the cosine similarity or Euclidean distance between the embeddings of different images is calculated. Cosine similarity measures the cosine of the angle between two vectors, indicating their similarity. Images with high cosine similarity are considered duplicates or near-duplicates. *Example showing comparing cosine similarities:*\n",
        "\n",
        "    ``` python\n",
        "    import torch\n",
        "    import torch.nn as nn\n",
        "    import torchvision.transforms as transforms\n",
        "    import torchvision.models as models\n",
        "    import numpy as np\n",
        "    from PIL import Image\n",
        "    from sklearn.metrics.pairwise import cosine_similarity\n",
        "\n",
        "    # Load pre-trained ResNet50 model\n",
        "    model = models.resnet50(pretrained=True)\n",
        "    model = nn.Sequential(*list(model.children())[:-1])  # Remove the last fully connected layer\n",
        "\n",
        "    # Set model to evaluation mode\n",
        "    model.eval()\n",
        "\n",
        "    # Paths to the images (adjust these paths as per your directory structure)\n",
        "    img1_path = \"dog.jpg\"\n",
        "    img2_path = \"dog_cropped.jpg\"\n",
        "    img3_path = \"another_dog.jpg\"\n",
        "\n",
        "    image1 = Image.open(img1_path).convert('RGB')\n",
        "    image2 = Image.open(img2_path).convert('RGB')\n",
        "    image3 = Image.open(img3_path).convert('RGB')\n",
        "    preprocess = transforms.Compose([\n",
        "        transforms.Resize((224, 224)),\n",
        "        transforms.ToTensor(),\n",
        "        transforms.Normalize(mean=[0.485, 0.456, 0.406], std=[0.229, 0.224, 0.225]),\n",
        "    ])\n",
        "\n",
        "    # Load and preprocess images\n",
        "    image1_tensor = preprocess(image1).unsqueeze(0)\n",
        "    image2_tensor = preprocess(image2).unsqueeze(0)\n",
        "    image3_tensor = preprocess(image3).unsqueeze(0)\n",
        "\n",
        "    # Compute image embeddings using ResNet50\n",
        "    with torch.no_grad():\n",
        "        model.eval()\n",
        "        embedding1 = model(image1_tensor).squeeze().cpu().numpy()\n",
        "        embedding2 = model(image2_tensor).squeeze().cpu().numpy()\n",
        "        embedding3 = model(image3_tensor).squeeze().cpu().numpy()\n",
        "\n",
        "    # Compute cosine similarities\n",
        "    similarity_dog_augmented = cosine_similarity(embedding1.reshape(1, -1), embedding2.reshape(1, -1))[0][0]\n",
        "    similarity_unrelated_dog = cosine_similarity(embedding1.reshape(1, -1), embedding3.reshape(1, -1))[0][0]\n",
        "\n",
        "    # Print results\n",
        "    print(f\"Similarity between original dog and augmented dog: {similarity_dog_augmented:.4f}\")\n",
        "    print(f\"Similarity between original dog and unrelated dog: {similarity_unrelated_dog:.4f}\")\n",
        "    ```\n",
        "\n",
        "    <table>\n",
        "    <tr>\n",
        "    <td>\n",
        "\n",
        "    <img src=\"https://raw.githubusercontent.com/kyrillosishak/re-SkinCancer/main/assets/dog.jpg\" width=\"400\" height=\"400\"/>\n",
        "\n",
        "    </td>\n",
        "    <td>\n",
        "\n",
        "    <img src=\"https://raw.githubusercontent.com/kyrillosishak/re-SkinCancer/main/assets/dog_cropped.jpg\" width=\"400\" height=\"400\" />\n",
        "\n",
        "    </td>\n",
        "    </tr>\n",
        "    </table>\n",
        "\n",
        "    *Cosine similarity between 2 images : 0.8782*\n",
        "\n",
        "    <table>\n",
        "    <tr>\n",
        "    <td>\n",
        "\n",
        "    <img src=\"https://raw.githubusercontent.com/kyrillosishak/re-SkinCancer/main/assets/dog.jpg\" width=\"400\" height=\"400\"/>\n",
        "\n",
        "    </td>\n",
        "    <td>\n",
        "\n",
        "    <img src=\"https://raw.githubusercontent.com/kyrillosishak/re-SkinCancer/main/assets/another_dog.jpg\" width=\"400\" height=\"400\" />\n",
        "\n",
        "    </td>\n",
        "    </tr>\n",
        "    </table>\n",
        "\n",
        "    *Cosine similarity between 2 images : 0.4228*\n",
        "\n",
        "    *As observed, the cosine similarity between the original dog photo and the cropped dog photo is significantly higher compared to the similarity between the original dog photo and the unrelated dog photo. This method enables us to effectively identify duplicates within a dataset. This images from \\[5\\].*\n",
        "\n",
        "------------------------------------------------------------------------\n",
        "\n",
        "### **2. How to mitigate duplicates in Texts:**\n",
        "\n",
        "*Duplicate detection in text data involves identifying identical or nearly identical pieces of text. In the context of image data, the paper “Deduplicating Training Data Makes Language Models Better” \\[4\\] describes two ways of detecting duplicates:*\n",
        "\n",
        "<img src=\"https://raw.githubusercontent.com/kyrillosishak/re-SkinCancer/main/assets/textduplicates.png\">\n",
        "\n",
        "-   **Exact Substring Duplication** : Due to the diversity of human language, it is uncommon for the same idea to be expressed identically in multiple documents unless one is derived from the other or both quote a shared source. When two text examples share a sufficiently long substring. Based on statistical analyses, a minimum matching substring length of 50 tokens is selected.\n",
        "    -   **Suffix Arrays**: Exact substring matching is computationally prohibitive with naive (quadratic) all-pair matching. To improve efficiency, all examples in the dataset are concatenated into a giant sequence, from which a Suffix Array is constructed. A suffix array is a representation of a suffix tree that can be constructed in linear time and allows efficient computation of many substring queries.\n",
        "\n",
        "        *For example, the suffixes of the sequence “banana” are (“banana”, “anana”, “nana” “ana”, “na”, “a”) and so the suffix array is the sequence (6 4 2 1 5 3).*\n",
        "\n",
        "    -   **Substring matching**: Identify Duplicates by scanning the suffix array, repeated sequences can be identified as adjacent indices in the array. If two sequences share a common prefix of at least the threshold length, they are recorded as duplicates.\n",
        "\n",
        "*This example illustrate the first approach :*"
      ],
      "id": "c8f90e0b-a408-4dea-8310-7b52fc2000da"
    },
    {
      "cell_type": "code",
      "execution_count": null,
      "metadata": {
        "id": "85439115-acb6-4c40-ad52-eb0031211e85"
      },
      "outputs": [],
      "source": [
        "# Input text\n",
        "text = \"the quick brown fox jumps over the lazy dog jumps over the quick brown fox.\"\n",
        "\n",
        "# Step 1: Build suffix array\n",
        "suffixes = [(text[i:], i) for i in range(len(text))]  # Create list of suffixes with their indices\n",
        "suffixes.sort()  # Sort the suffixes lexicographically\n",
        "suffix_array = [suffix[1] for suffix in suffixes]  # Extract indices from sorted suffixes\n",
        "print(\"Suffix Array:\", suffix_array)\n",
        "\n",
        "# Step 2: Find duplicates using the suffix array\n",
        "min_length = 7\n",
        "duplicates = []\n",
        "n = len(suffix_array)\n",
        "\n",
        "for i in range(n - 1):\n",
        "    lcp_length = 0  # Initialize the length of the longest common prefix (LCP)\n",
        "\n",
        "    # Calculate the LCP between consecutive suffixes\n",
        "    while (suffix_array[i] + lcp_length < len(text) and\n",
        "           suffix_array[i+1] + lcp_length < len(text) and\n",
        "           text[suffix_array[i] + lcp_length] == text[suffix_array[i+1] + lcp_length]):\n",
        "        lcp_length += 1\n",
        "\n",
        "    # Check if the LCP length is greater than or equal to the minimum length\n",
        "    if lcp_length >= min_length:\n",
        "        duplicates.append((suffix_array[i], suffix_array[i+1], lcp_length))\n",
        "\n",
        "print(\"Duplicates:\", duplicates)\n",
        "\n",
        "# Step 3: Print duplicate substrings\n",
        "for start1, start2, length in duplicates:\n",
        "    duplicate_substring = text[start1:start1+length]\n",
        "    print(f\"Duplicate substring: '{duplicate_substring}' found at indices {start1} and {start2}\")"
      ],
      "id": "85439115-acb6-4c40-ad52-eb0031211e85"
    },
    {
      "cell_type": "markdown",
      "metadata": {
        "id": "a1c4228d-f436-4f18-8b16-9e49973975ce"
      },
      "source": [
        "-   **Approximate Matching with MinHash** : Exact substring matching may not be sufficient for all cases, especially with web crawl text where documents might be identical except for minor variations. For such cases, approximate deduplication using MinHash is effective. MinHash is an approximate matching algorithm widely used in large-scale deduplication tasks. MinHash approximates the Jaccard Index, which measures the similarity between two sets of n-grams derived from documents. The algorithm uses hash functions to create document signatures by sorting n-grams and keeping only the smallest hashed n-grams.\n",
        "\n",
        "    -   Generate N-grams\n",
        "    -   Use hash functions to generate MinHash signatures by selecting the smallest hashed n-grams.\n",
        "    -   Calculate the probability that two documents are potential matches based on their MinHash signatures.\n",
        "\n",
        "*This example illustrate the second approach :*"
      ],
      "id": "a1c4228d-f436-4f18-8b16-9e49973975ce"
    },
    {
      "cell_type": "code",
      "execution_count": null,
      "metadata": {
        "id": "40c87a08-8bea-41b6-ad2c-fea032f226ee"
      },
      "outputs": [],
      "source": [
        "import hashlib\n",
        "\n",
        "# Input texts\n",
        "text1 = \"the quick brown fox\"\n",
        "text2 = \"the quick brown fox jumps over the lazy dog\"\n",
        "text3 = \"I love ML\"\n",
        "n = 3\n",
        "\n",
        "# Step 1: Generate n-grams\n",
        "ngrams1 = [text1[i:i+n] for i in range(len(text1)-n+1)]\n",
        "ngrams2 = [text2[i:i+n] for i in range(len(text2)-n+1)]\n",
        "ngrams3 = [text3[i:i+n] for i in range(len(text3)-n+1)]\n",
        "print(\"N-grams 1:\", ngrams1)\n",
        "print(\"N-grams 2:\", ngrams2)\n",
        "print(\"N-grams 3:\", ngrams3)\n",
        "\n",
        "# Step 2: Compute MinHash signatures\n",
        "num_hashes = 100\n",
        "signature1 = [min([int(hashlib.md5((str(seed) + ngram).encode()).hexdigest(), 16)\n",
        "                  for ngram in ngrams1])\n",
        "              for seed in range(num_hashes)]\n",
        "signature2 = [min([int(hashlib.md5((str(seed) + ngram).encode()).hexdigest(), 16)\n",
        "                  for ngram in ngrams2])\n",
        "              for seed in range(num_hashes)]\n",
        "signature3 = [min([int(hashlib.md5((str(seed) + ngram).encode()).hexdigest(), 16)\n",
        "                  for ngram in ngrams3])\n",
        "              for seed in range(num_hashes)]\n",
        "print(\"MinHash Signature 1:\", signature1)\n",
        "print(\"MinHash Signature 2:\", signature2)\n",
        "print(\"MinHash Signature 3:\", signature3)\n",
        "\n",
        "# Step 3: Calculate Jaccard and MinHash similarities\n",
        "jaccard_sim1_2 = len(set(ngrams1).intersection(set(ngrams2))) / len(set(ngrams1).union(set(ngrams2)))\n",
        "jaccard_sim1_3 = len(set(ngrams1).intersection(set(ngrams3))) / len(set(ngrams1).union(set(ngrams3)))\n",
        "minhash_sim1_2 = sum(1 for i in range(num_hashes) if signature1[i] == signature2[i]) / num_hashes\n",
        "minhash_sim1_3 = sum(1 for i in range(num_hashes) if signature1[i] == signature3[i]) / num_hashes\n",
        "print(\"Jaccard Similarity between text1 and text2:\", jaccard_sim1_2)\n",
        "print(\"Jaccard Similarity between text1 and text3:\", jaccard_sim1_3)\n",
        "print(\"MinHash Similarity between text1 and text2:\", minhash_sim1_2)\n",
        "print(\"MinHash Similarity between text1 and text3:\", minhash_sim1_3)"
      ],
      "id": "40c87a08-8bea-41b6-ad2c-fea032f226ee"
    },
    {
      "cell_type": "markdown",
      "metadata": {
        "id": "14010e4a-0d4d-4b17-a3b4-d0e778313216"
      },
      "source": [
        "*As observed in this example, text1 has similarities with text2 but has 0 similarity with text3.*\n",
        "\n",
        "------------------------------------------------------------------------\n",
        "\n",
        "### **3. How to mitigate duplicates in General Data:**\n",
        "\n",
        "*For general data, which can include structured data in tables, finding duplicates often involves comparing multiple columns.*\n",
        "\n",
        "-   Comparing entire records for exact matches.\n",
        "-   Clustering grouping similar records together based on features.\n",
        "-   Assigning probabilities to different fields and calculating an overall similarity score."
      ],
      "id": "14010e4a-0d4d-4b17-a3b4-d0e778313216"
    },
    {
      "cell_type": "markdown",
      "metadata": {
        "id": "dd86df2e-4272-4034-ac91-9e1d48d2555b"
      },
      "source": [
        "## **5. References**\n",
        "\n",
        "\\[1\\] [Leakage and the reproducibility crisis in machine learning-based science](https://arxiv.org/abs/2207.07048)\n",
        "\n",
        "\\[2\\] [Do we train on test data? Purging CIFAR of near-duplicates](https://arxiv.org/pdf/1902.00423)\n",
        "\n",
        "\\[3\\] [Common pitfalls and recommendations for using machine learning to detect and prognosticate for COVID-19 using chest radiographs and CT scans](https://static-content.springer.com/esm/art%3A10.1038%2Fs42256-021-00307-0/MediaObjects/42256_2021_307_MOESM1_ESM.pdf)\n",
        "\n",
        "\\[4\\] [Deduplicating Training Data Makes Language Models Better](https://arxiv.org/pdf/2107.06499)\n",
        "\n",
        "\\[5\\] [National geographic](https://www.nationalgeographic.com/animals/mammals/facts/domestic-dog)"
      ],
      "id": "dd86df2e-4272-4034-ac91-9e1d48d2555b"
    }
  ],
  "nbformat": 4,
  "nbformat_minor": 5,
  "metadata": {
    "colab": {
      "provenance": [],
      "include_colab_link": true
    }
  }
}